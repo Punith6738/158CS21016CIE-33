{
  "cells": [
    {
      "cell_type": "markdown",
      "metadata": {
        "id": "view-in-github",
        "colab_type": "text"
      },
      "source": [
        "<a href=\"https://colab.research.google.com/github/Punith6738/158CS21016CIE-33/blob/main/ASSIGNMENT_%E2%80%93_WEEK_08.ipynb\" target=\"_parent\"><img src=\"https://colab.research.google.com/assets/colab-badge.svg\" alt=\"Open In Colab\"/></a>"
      ]
    },
    {
      "cell_type": "markdown",
      "metadata": {
        "id": "qov-MRoApPuy"
      },
      "source": [
        "Logistics Regression function and SVM function."
      ]
    },
    {
      "cell_type": "code",
      "source": [],
      "metadata": {
        "id": "QGh-DnfjeNwt"
      },
      "execution_count": null,
      "outputs": []
    },
    {
      "cell_type": "code",
      "execution_count": null,
      "metadata": {
        "id": "SNspaJNdpTdf"
      },
      "outputs": [],
      "source": [
        "from sklearn.metrics import accuracy_score,confusion_matrix,classification_report\n",
        "from sklearn.model_selection import train_test_split\n",
        "from sklearn.linear_model import LogisticRegression\n",
        "import pandas as pd"
      ]
    },
    {
      "cell_type": "code",
      "execution_count": null,
      "metadata": {
        "id": "xXrNr5_xpiT4"
      },
      "outputs": [],
      "source": [
        "df = pd.read_csv(\"/content/train[1].csv\")"
      ]
    },
    {
      "cell_type": "code",
      "execution_count": null,
      "metadata": {
        "id": "HR8YMMsxp_jS"
      },
      "outputs": [],
      "source": [
        "X = df[[\"Pclass\"]]\n",
        "y = df[\"Name\"]"
      ]
    },
    {
      "cell_type": "code",
      "execution_count": null,
      "metadata": {
        "id": "J6pzySezp1Es"
      },
      "outputs": [],
      "source": [
        "X_train,X_test,y_train,y_test=train_test_split(X,y,train_size=0.2,random_state=23)"
      ]
    },
    {
      "cell_type": "code",
      "execution_count": null,
      "metadata": {
        "id": "76AUPOscqYgW"
      },
      "outputs": [],
      "source": [
        "Lg=LogisticRegression(random_state=0)"
      ]
    },
    {
      "cell_type": "code",
      "execution_count": null,
      "metadata": {
        "colab": {
          "base_uri": "https://localhost:8080/",
          "height": 95
        },
        "id": "4jdzdeXiqbGf",
        "outputId": "a97ddb76-094e-4ea0-fd12-399471b9a713"
      },
      "outputs": [
        {
          "output_type": "execute_result",
          "data": {
            "text/plain": [
              "LogisticRegression(random_state=0)"
            ],
            "text/html": [
              "<style>#sk-container-id-1 {color: black;background-color: white;}#sk-container-id-1 pre{padding: 0;}#sk-container-id-1 div.sk-toggleable {background-color: white;}#sk-container-id-1 label.sk-toggleable__label {cursor: pointer;display: block;width: 100%;margin-bottom: 0;padding: 0.3em;box-sizing: border-box;text-align: center;}#sk-container-id-1 label.sk-toggleable__label-arrow:before {content: \"▸\";float: left;margin-right: 0.25em;color: #696969;}#sk-container-id-1 label.sk-toggleable__label-arrow:hover:before {color: black;}#sk-container-id-1 div.sk-estimator:hover label.sk-toggleable__label-arrow:before {color: black;}#sk-container-id-1 div.sk-toggleable__content {max-height: 0;max-width: 0;overflow: hidden;text-align: left;background-color: #f0f8ff;}#sk-container-id-1 div.sk-toggleable__content pre {margin: 0.2em;color: black;border-radius: 0.25em;background-color: #f0f8ff;}#sk-container-id-1 input.sk-toggleable__control:checked~div.sk-toggleable__content {max-height: 200px;max-width: 100%;overflow: auto;}#sk-container-id-1 input.sk-toggleable__control:checked~label.sk-toggleable__label-arrow:before {content: \"▾\";}#sk-container-id-1 div.sk-estimator input.sk-toggleable__control:checked~label.sk-toggleable__label {background-color: #d4ebff;}#sk-container-id-1 div.sk-label input.sk-toggleable__control:checked~label.sk-toggleable__label {background-color: #d4ebff;}#sk-container-id-1 input.sk-hidden--visually {border: 0;clip: rect(1px 1px 1px 1px);clip: rect(1px, 1px, 1px, 1px);height: 1px;margin: -1px;overflow: hidden;padding: 0;position: absolute;width: 1px;}#sk-container-id-1 div.sk-estimator {font-family: monospace;background-color: #f0f8ff;border: 1px dotted black;border-radius: 0.25em;box-sizing: border-box;margin-bottom: 0.5em;}#sk-container-id-1 div.sk-estimator:hover {background-color: #d4ebff;}#sk-container-id-1 div.sk-parallel-item::after {content: \"\";width: 100%;border-bottom: 1px solid gray;flex-grow: 1;}#sk-container-id-1 div.sk-label:hover label.sk-toggleable__label {background-color: #d4ebff;}#sk-container-id-1 div.sk-serial::before {content: \"\";position: absolute;border-left: 1px solid gray;box-sizing: border-box;top: 0;bottom: 0;left: 50%;z-index: 0;}#sk-container-id-1 div.sk-serial {display: flex;flex-direction: column;align-items: center;background-color: white;padding-right: 0.2em;padding-left: 0.2em;position: relative;}#sk-container-id-1 div.sk-item {position: relative;z-index: 1;}#sk-container-id-1 div.sk-parallel {display: flex;align-items: stretch;justify-content: center;background-color: white;position: relative;}#sk-container-id-1 div.sk-item::before, #sk-container-id-1 div.sk-parallel-item::before {content: \"\";position: absolute;border-left: 1px solid gray;box-sizing: border-box;top: 0;bottom: 0;left: 50%;z-index: -1;}#sk-container-id-1 div.sk-parallel-item {display: flex;flex-direction: column;z-index: 1;position: relative;background-color: white;}#sk-container-id-1 div.sk-parallel-item:first-child::after {align-self: flex-end;width: 50%;}#sk-container-id-1 div.sk-parallel-item:last-child::after {align-self: flex-start;width: 50%;}#sk-container-id-1 div.sk-parallel-item:only-child::after {width: 0;}#sk-container-id-1 div.sk-dashed-wrapped {border: 1px dashed gray;margin: 0 0.4em 0.5em 0.4em;box-sizing: border-box;padding-bottom: 0.4em;background-color: white;}#sk-container-id-1 div.sk-label label {font-family: monospace;font-weight: bold;display: inline-block;line-height: 1.2em;}#sk-container-id-1 div.sk-label-container {text-align: center;}#sk-container-id-1 div.sk-container {/* jupyter's `normalize.less` sets `[hidden] { display: none; }` but bootstrap.min.css set `[hidden] { display: none !important; }` so we also need the `!important` here to be able to override the default hidden behavior on the sphinx rendered scikit-learn.org. See: https://github.com/scikit-learn/scikit-learn/issues/21755 */display: inline-block !important;position: relative;}#sk-container-id-1 div.sk-text-repr-fallback {display: none;}</style><div id=\"sk-container-id-1\" class=\"sk-top-container\"><div class=\"sk-text-repr-fallback\"><pre>LogisticRegression(random_state=0)</pre><b>In a Jupyter environment, please rerun this cell to show the HTML representation or trust the notebook. <br />On GitHub, the HTML representation is unable to render, please try loading this page with nbviewer.org.</b></div><div class=\"sk-container\" hidden><div class=\"sk-item\"><div class=\"sk-estimator sk-toggleable\"><input class=\"sk-toggleable__control sk-hidden--visually\" id=\"sk-estimator-id-1\" type=\"checkbox\" checked><label for=\"sk-estimator-id-1\" class=\"sk-toggleable__label sk-toggleable__label-arrow\">LogisticRegression</label><div class=\"sk-toggleable__content\"><pre>LogisticRegression(random_state=0)</pre></div></div></div></div></div>"
            ]
          },
          "metadata": {},
          "execution_count": 42
        }
      ],
      "source": [
        "Lg.fit(X_train,y_train)"
      ]
    },
    {
      "cell_type": "code",
      "execution_count": null,
      "metadata": {
        "id": "tkjdfhIMqczQ"
      },
      "outputs": [],
      "source": [
        "pred_y=Lg.predict(X_test)"
      ]
    },
    {
      "cell_type": "code",
      "execution_count": null,
      "metadata": {
        "colab": {
          "base_uri": "https://localhost:8080/"
        },
        "id": "berG6NJlqfm_",
        "outputId": "b6cc9068-c66c-45a1-b1ce-fb15dc1ba3ef"
      },
      "outputs": [
        {
          "output_type": "stream",
          "name": "stdout",
          "text": [
            "accuracy 0.0\n"
          ]
        }
      ],
      "source": [
        "Ac=accuracy_score(y_test,pred_y)\n",
        "print(\"accuracy\",Ac)"
      ]
    },
    {
      "cell_type": "code",
      "execution_count": null,
      "metadata": {
        "colab": {
          "base_uri": "https://localhost:8080/"
        },
        "id": "RQk5b6ZRqjFE",
        "outputId": "b56f6cbb-4f62-4feb-820f-c812f63370dc"
      },
      "outputs": [
        {
          "output_type": "stream",
          "name": "stdout",
          "text": [
            "confusion matrix [[0 0 0 ... 0 0 0]\n",
            " [0 0 0 ... 0 0 0]\n",
            " [0 0 0 ... 0 0 0]\n",
            " ...\n",
            " [0 0 0 ... 0 0 0]\n",
            " [0 0 0 ... 0 0 0]\n",
            " [0 0 0 ... 0 0 0]]\n"
          ]
        }
      ],
      "source": [
        "cnf=confusion_matrix(y_test,pred_y)\n",
        "print(\"confusion matrix\",cnf)"
      ]
    },
    {
      "cell_type": "code",
      "execution_count": null,
      "metadata": {
        "colab": {
          "base_uri": "https://localhost:8080/"
        },
        "id": "mrVY3LPPqm2b",
        "outputId": "948bc076-5e2e-4041-ea42-4b8f3c0dc65d"
      },
      "outputs": [
        {
          "output_type": "stream",
          "name": "stdout",
          "text": [
            "classification Report                                                                                     precision    recall  f1-score   support\n",
            "\n",
            "                                                               Abbing, Mr. Anthony       0.00      0.00      0.00       1.0\n",
            "                                                       Abbott, Mr. Rossmore Edward       0.00      0.00      0.00       1.0\n",
            "                                                               Abelson, Mr. Samuel       0.00      0.00      0.00       1.0\n",
            "                                             Abelson, Mrs. Samuel (Hannah Wizosky)       0.00      0.00      0.00       1.0\n",
            "                                                    Adahl, Mr. Mauritz Nils Martin       0.00      0.00      0.00       1.0\n",
            "                                                                   Adams, Mr. John       0.00      0.00      0.00       1.0\n",
            "                                                        Aks, Mrs. Sam (Leah Rosen)       0.00      0.00      0.00       1.0\n",
            "                                                       Albimona, Mr. Nassef Cassem       0.00      0.00      0.00       1.0\n",
            "                                                       Alhomaki, Mr. Ilmari Rudolf       0.00      0.00      0.00       1.0\n",
            "                                                                    Ali, Mr. Ahmed       0.00      0.00      0.00       1.0\n",
            "                                                                  Ali, Mr. William       0.00      0.00      0.00       1.0\n",
            "                                                     Allen, Miss. Elisabeth Walton       0.00      0.00      0.00       1.0\n",
            "                                                    Allison, Master. Hudson Trevor       0.00      0.00      0.00       1.0\n",
            "                                   Allison, Mrs. Hudson J C (Bessie Waldo Daniels)       0.00      0.00      0.00       1.0\n",
            "                                                            Allum, Mr. Owen George       0.00      0.00      0.00       1.0\n",
            "                                           Andersson, Master. Sigvard Harald Elias       0.00      0.00      0.00       1.0\n",
            "                                                Andersson, Miss. Ebba Iris Alfrida       0.00      0.00      0.00       1.0\n",
            "                                                 Andersson, Miss. Ellis Anna Maria       0.00      0.00      0.00       1.0\n",
            "                                              Andersson, Miss. Ingeborg Constanzia       0.00      0.00      0.00       1.0\n",
            "                                                 Andersson, Miss. Sigrid Elisabeth       0.00      0.00      0.00       1.0\n",
            "                                                       Andersson, Mr. Anders Johan       0.00      0.00      0.00       1.0\n",
            "                                      Andersson, Mr. August Edvard (\"Wennerstrom\")       0.00      0.00      0.00       1.0\n",
            "                         Andersson, Mrs. Anders Johan (Alfrida Konstantia Brogren)       0.00      0.00      0.00       1.0\n",
            "                                                        Andreasson, Mr. Paul Edvin       0.00      0.00      0.00       1.0\n",
            "                                                        Andrew, Mr. Edgardo Samuel       0.00      0.00      0.00       1.0\n",
            "                                                 Andrews, Miss. Kornelia Theodosia       0.00      0.00      0.00       1.0\n",
            "                                                            Andrews, Mr. Thomas Jr       0.00      0.00      0.00       1.0\n",
            "                                     Appleton, Mrs. Edward Dale (Charlotte Lamson)       0.00      0.00      0.00       1.0\n",
            "                                                         Arnold-Franchi, Mr. Josef       0.00      0.00      0.00       1.0\n",
            "                                                           Artagaveytia, Mr. Ramon       0.00      0.00      0.00       1.0\n",
            "                                                                   Asim, Mr. Adola       0.00      0.00      0.00       1.0\n",
            "                                             Asplund, Master. Clarence Gustaf Hugo       0.00      0.00      0.00       1.0\n",
            "                                                 Asplund, Master. Edvin Rojj Felix       0.00      0.00      0.00       1.0\n",
            "                                                    Asplund, Miss. Lillian Gertrud       0.00      0.00      0.00       1.0\n",
            "                         Asplund, Mrs. Carl Oscar (Selma Augusta Emilia Johansson)       0.00      0.00      0.00       1.0\n",
            "                                 Astor, Mrs. John Jacob (Madeleine Talmadge Force)       0.00      0.00      0.00       1.0\n",
            "                                                             Attalah, Miss. Malake       0.00      0.00      0.00       1.0\n",
            "                                                     Aubart, Mme. Leontine Pauline       0.00      0.00      0.00       1.0\n",
            "                                                            Augustsson, Mr. Albert       0.00      0.00      0.00       1.0\n",
            "                                                              Ayoub, Miss. Banoura       0.00      0.00      0.00       1.0\n",
            "                                                        Backstrom, Mr. Karl Alfred       0.00      0.00      0.00       1.0\n",
            "                                                            Baclini, Miss. Eugenie       0.00      0.00      0.00       1.0\n",
            "                                                    Baclini, Miss. Marie Catherine       0.00      0.00      0.00       1.0\n",
            "                                                                 Badt, Mr. Mohamed       0.00      0.00      0.00       1.0\n",
            "                                                          Bailey, Mr. Percy Andrew       0.00      0.00      0.00       1.0\n",
            "                                                                 Balkic, Mr. Cerin       0.00      0.00      0.00       1.0\n",
            "                                                           Ball, Mrs. (Ada E Hall)       0.00      0.00      0.00       1.0\n",
            "                                                             Barbara, Miss. Saiide       0.00      0.00      0.00       1.0\n",
            "                                                   Barbara, Mrs. (Catherine David)       0.00      0.00      0.00       1.0\n",
            "                                                            Barton, Mr. David John       0.00      0.00      0.00       1.0\n",
            "                                                               Baumann, Mr. John D       0.00      0.00      0.00       1.0\n",
            "                                                          Baxter, Mr. Quigg Edmond       0.00      0.00      0.00       1.0\n",
            "                                                             Bazzani, Miss. Albina       0.00      0.00      0.00       1.0\n",
            "                                                 Beane, Mrs. Edward (Ethel Clarke)       0.00      0.00      0.00       1.0\n",
            "                                                        Beavan, Mr. William Thomas       0.00      0.00      0.00       1.0\n",
            "                                                         Becker, Master. Richard F       0.00      0.00      0.00       1.0\n",
            "                                                       Becker, Miss. Marion Louise       0.00      0.00      0.00       1.0\n",
            "                                                     Beckwith, Mr. Richard Leonard       0.00      0.00      0.00       1.0\n",
            "                                  Beckwith, Mrs. Richard Leonard (Sallie Monypeny)       0.00      0.00      0.00       1.0\n",
            "                                                             Beesley, Mr. Lawrence       0.00      0.00      0.00       1.0\n",
            "                                                             Behr, Mr. Karl Howell       0.00      0.00      0.00       1.0\n",
            "                                                      Berglund, Mr. Karl Ivar Sven       0.00      0.00      0.00       1.0\n",
            "                                                        Berriman, Mr. William John       0.00      0.00      0.00       1.0\n",
            "                                                               Betros, Mr. Tannous       0.00      0.00      0.00       1.0\n",
            "                                                             Bidois, Miss. Rosalie       0.00      0.00      0.00       1.0\n",
            "                                                                     Bing, Mr. Lee       0.00      0.00      0.00       1.0\n",
            "                                                 Birkeland, Mr. Hans Martin Monsen       0.00      0.00      0.00       1.0\n",
            "                                                           Bishop, Mr. Dickinson H       0.00      0.00      0.00       1.0\n",
            "                                         Bjornstrom-Steffansson, Mr. Mauritz Hakan       0.00      0.00      0.00       1.0\n",
            "                                                      Blackwell, Mr. Stephen Weart       0.00      0.00      0.00       1.0\n",
            "                                                                  Blank, Mr. Henry       0.00      0.00      0.00       1.0\n",
            "                                                          Bonnell, Miss. Elizabeth       0.00      0.00      0.00       1.0\n",
            "                                                         Bostandyeff, Mr. Guentcho       0.00      0.00      0.00       1.0\n",
            "                                                           Boulos, Miss. Nourelain       0.00      0.00      0.00       1.0\n",
            "                                                                 Boulos, Mr. Hanna       0.00      0.00      0.00       1.0\n",
            "                                                     Boulos, Mrs. Joseph (Sultana)       0.00      0.00      0.00       1.0\n",
            "                                                                Bourke, Miss. Mary       0.00      0.00      0.00       1.0\n",
            "                                                                  Bourke, Mr. John       0.00      0.00      0.00       1.0\n",
            "                                                     Bourke, Mrs. John (Catherine)       0.00      0.00      0.00       1.0\n",
            "                                                       Bowen, Mr. David John \"Dai\"       0.00      0.00      0.00       1.0\n",
            "                                                              Bracken, Mr. James H       0.00      0.00      0.00       1.0\n",
            "                                     Bradley, Mr. George (\"George Arthur Brayton\")       0.00      0.00      0.00       1.0\n",
            "                                                         Braund, Mr. Lewis Richard       0.00      0.00      0.00       1.0\n",
            "                                                         Brewe, Dr. Arthur Jackson       0.00      0.00      0.00       1.0\n",
            "                                                   Brocklebank, Mr. William Alfred       0.00      0.00      0.00       1.0\n",
            "                                                     Brown, Miss. Amelia \"Mildred\"       0.00      0.00      0.00       1.0\n",
            "                                                 Brown, Mr. Thomas William Solomon       0.00      0.00      0.00       1.0\n",
            "                     Brown, Mrs. Thomas William Solomon (Elizabeth Catherine Ford)       0.00      0.00      0.00       1.0\n",
            "                                                   Bryhl, Mr. Kurt Arnold Gottfrid       0.00      0.00      0.00       1.0\n",
            "                                                               Burke, Mr. Jeremiah       0.00      0.00      0.00       1.0\n",
            "                                                   Burns, Miss. Elizabeth Margaret       0.00      0.00      0.00       1.0\n",
            "                                                                  Buss, Miss. Kate       0.00      0.00      0.00       1.0\n",
            "                                                       Butler, Mr. Reginald Fenton       0.00      0.00      0.00       1.0\n",
            "                                                 Butt, Major. Archibald Willingham       0.00      0.00      0.00       1.0\n",
            "                                                          Bystrom, Mrs. (Karolina)       0.00      0.00      0.00       1.0\n",
            "                                                                   Cacic, Mr. Luka       0.00      0.00      0.00       1.0\n",
            "                                                             Cairns, Mr. Alexander       0.00      0.00      0.00       1.0\n",
            "                                                 Calderhead, Mr. Edward Pennington       0.00      0.00      0.00       1.0\n",
            "                               Caldwell, Mrs. Albert Francis (Sylvia Mae Harbaugh)       0.00      0.00      0.00       1.0\n",
            "                                                                   Calic, Mr. Jovo       0.00      0.00      0.00       1.0\n",
            "                                                                  Calic, Mr. Petar       0.00      0.00      0.00       1.0\n",
            "                                                        Cameron, Miss. Clear Annie       0.00      0.00      0.00       1.0\n",
            "                                                             Campbell, Mr. William       0.00      0.00      0.00       1.0\n",
            "                                                               Canavan, Miss. Mary       0.00      0.00      0.00       1.0\n",
            "                                                          Cann, Mr. Ernest Charles       0.00      0.00      0.00       1.0\n",
            "                                                  Caram, Mrs. Joseph (Maria Elias)       0.00      0.00      0.00       1.0\n",
            "                                                Cardeza, Mr. Thomas Drake Martinez       0.00      0.00      0.00       1.0\n",
            "                                                      Carlsson, Mr. August Sigfrid       0.00      0.00      0.00       1.0\n",
            "                                                          Carlsson, Mr. Frans Olof       0.00      0.00      0.00       1.0\n",
            "                                                         Carr, Miss. Helen \"Ellen\"       0.00      0.00      0.00       1.0\n",
            "                                                           Carrau, Mr. Francisco M       0.00      0.00      0.00       1.0\n",
            "                                               Carter, Master. William Thornton II       0.00      0.00      0.00       1.0\n",
            "                                                         Carter, Miss. Lucile Polk       0.00      0.00      0.00       1.0\n",
            "                                                        Carter, Mr. William Ernest       0.00      0.00      0.00       1.0\n",
            "                                     Carter, Mrs. Ernest Courtenay (Lilian Hughes)       0.00      0.00      0.00       1.0\n",
            "                                         Carter, Mrs. William Ernest (Lucile Polk)       0.00      0.00      0.00       1.0\n",
            "                                                            Celotti, Mr. Francesco       0.00      0.00      0.00       1.0\n",
            "                                                       Chaffee, Mr. Herbert Fuller       0.00      0.00      0.00       1.0\n",
            "                                                     Chambers, Mr. Norman Campbell       0.00      0.00      0.00       1.0\n",
            "                                    Chambers, Mrs. Norman Campbell (Bertha Griggs)       0.00      0.00      0.00       1.0\n",
            "                                                        Chapman, Mr. Charles Henry       0.00      0.00      0.00       1.0\n",
            "                                                           Chapman, Mr. John Henry       0.00      0.00      0.00       1.0\n",
            "                                                               Charters, Mr. David       0.00      0.00      0.00       1.0\n",
            "                                                              Cherry, Miss. Gladys       0.00      0.00      0.00       1.0\n",
            "                                            Chibnall, Mrs. (Edith Martha Bowerman)       0.00      0.00      0.00       1.0\n",
            "                                                              Christmann, Mr. Emil       0.00      0.00      0.00       1.0\n",
            "                                                       Christy, Miss. Julie Rachel       0.00      0.00      0.00       1.0\n",
            "                                                       Chronopoulos, Mr. Apostolos       0.00      0.00      0.00       1.0\n",
            "                                                              Cleaver, Miss. Alice       0.00      0.00      0.00       1.0\n",
            "                                                       Clifford, Mr. George Quincy       0.00      0.00      0.00       1.0\n",
            "                                                    Coelho, Mr. Domingos Fernandeo       0.00      0.00      0.00       1.0\n",
            "                                                          Cohen, Mr. Gurshon \"Gus\"       0.00      0.00      0.00       1.0\n",
            "                                                                  Coleff, Mr. Peju       0.00      0.00      0.00       1.0\n",
            "                                                                 Coleff, Mr. Satio       0.00      0.00      0.00       1.0\n",
            "                                                   Coleridge, Mr. Reginald Charles       0.00      0.00      0.00       1.0\n",
            "                                                        Collander, Mr. Erik Gustaf       0.00      0.00      0.00       1.0\n",
            "                                                        Colley, Mr. Edward Pomeroy       0.00      0.00      0.00       1.0\n",
            "                                       Collyer, Mrs. Harvey (Charlotte Annie Tate)       0.00      0.00      0.00       1.0\n",
            "                                                       Compton, Miss. Sara Rebecca       0.00      0.00      0.00       1.0\n",
            "                                                           Connaghton, Mr. Michael       0.00      0.00      0.00       1.0\n",
            "                                                              Connolly, Miss. Kate       0.00      0.00      0.00       1.0\n",
            "                                                              Connors, Mr. Patrick       0.00      0.00      0.00       1.0\n",
            "                                                                   Cook, Mr. Jacob       0.00      0.00      0.00       1.0\n",
            "                                                                 Cor, Mr. Liudevit       0.00      0.00      0.00       1.0\n",
            "                                                                   Corn, Mr. Harry       0.00      0.00      0.00       1.0\n",
            "                                             Coutts, Master. Eden Leslie \"Neville\"       0.00      0.00      0.00       1.0\n",
            "                                            Coutts, Master. William Loch \"William\"       0.00      0.00      0.00       1.0\n",
            "                                                                 Coxon, Mr. Daniel       0.00      0.00      0.00       1.0\n",
            "                                                          Crease, Mr. Ernest James       0.00      0.00      0.00       1.0\n",
            "                                                          Cribb, Mr. John Hatfield       0.00      0.00      0.00       1.0\n",
            "                                                      Crosby, Capt. Edward Gifford       0.00      0.00      0.00       1.0\n",
            "                                                           Crosby, Miss. Harriet R       0.00      0.00      0.00       1.0\n",
            "                                                               Culumovic, Mr. Jeso       0.00      0.00      0.00       1.0\n",
            "                               Cumings, Mrs. John Bradley (Florence Briggs Thayer)       0.00      0.00      0.00       1.0\n",
            "                                                    Cunningham, Mr. Alfred Fleming       0.00      0.00      0.00       1.0\n",
            "                                                             Dahl, Mr. Karl Edwart       0.00      0.00      0.00       1.0\n",
            "                                                      Dahlberg, Miss. Gerda Ulrika       0.00      0.00      0.00       1.0\n",
            "                                                                 Dakic, Mr. Branko       0.00      0.00      0.00       1.0\n",
            "                                                          Daly, Mr. Eugene Patrick       0.00      0.00      0.00       1.0\n",
            "                                                         Danbom, Mr. Ernst Gilbert       0.00      0.00      0.00       1.0\n",
            "                            Danbom, Mrs. Ernst Gilbert (Anna Sigrid Maria Brogren)       0.00      0.00      0.00       1.0\n",
            "                                                       Daniel, Mr. Robert Williams       0.00      0.00      0.00       1.0\n",
            "                                                                  Danoff, Mr. Yoto       0.00      0.00      0.00       1.0\n",
            "                                                         Davies, Mr. Charles Henry       0.00      0.00      0.00       1.0\n",
            "                                                                 Davis, Miss. Mary       0.00      0.00      0.00       1.0\n",
            "                                                        Dean, Master. Bertram Vere       0.00      0.00      0.00       1.0\n",
            "                                                           Dean, Mr. Bertram Frank       0.00      0.00      0.00       1.0\n",
            "                                                                Denkoff, Mr. Mitto       0.00      0.00      0.00       1.0\n",
            "                                                                Dennis, Mr. Samuel       0.00      0.00      0.00       1.0\n",
            "                                                     Devaney, Miss. Margaret Delia       0.00      0.00      0.00       1.0\n",
            "                                                           Dick, Mr. Albert Adrian       0.00      0.00      0.00       1.0\n",
            "                                                                  Dimic, Mr. Jovan       0.00      0.00      0.00       1.0\n",
            "                                                         Dodge, Master. Washington       0.00      0.00      0.00       1.0\n",
            "                                                               Doharr, Mr. Tannous       0.00      0.00      0.00       1.0\n",
            "                                                               Doling, Miss. Elsie       0.00      0.00      0.00       1.0\n",
            "                                              Doling, Mrs. John T (Ada Julia Bone)       0.00      0.00      0.00       1.0\n",
            "                                                               Dooley, Mr. Patrick       0.00      0.00      0.00       1.0\n",
            "                                                          Dowdell, Miss. Elizabeth       0.00      0.00      0.00       1.0\n",
            "                                                              Drazenoic, Mr. Jozef       0.00      0.00      0.00       1.0\n",
            "                                   Drew, Mrs. James Vivian (Lulu Thorne Christian)       0.00      0.00      0.00       1.0\n",
            "                                                                  Duane, Mr. Frank       0.00      0.00      0.00       1.0\n",
            "                 Duff Gordon, Lady. (Lucille Christiana Sutherland) (\"Mrs Morgan\")       0.00      0.00      0.00       1.0\n",
            "                                                      Duran y More, Miss. Asuncion       0.00      0.00      0.00       1.0\n",
            "                                                    Edvardsson, Mr. Gustaf Hjalmar       0.00      0.00      0.00       1.0\n",
            "                                                      Eitemiller, Mr. George Floyd       0.00      0.00      0.00       1.0\n",
            "                                                            Eklund, Mr. Hans Linus       0.00      0.00      0.00       1.0\n",
            "                                                                Ekstrom, Mr. Johan       0.00      0.00      0.00       1.0\n",
            "                                                                   Elias, Mr. Dibo       0.00      0.00      0.00       1.0\n",
            "                                                              Elias, Mr. Joseph Jr       0.00      0.00      0.00       1.0\n",
            "                                                                Elias, Mr. Tannous       0.00      0.00      0.00       1.0\n",
            "                                                     Emanuel, Miss. Virginia Ethel       0.00      0.00      0.00       1.0\n",
            "                                                           Emir, Mr. Farred Chehab       0.00      0.00      0.00       1.0\n",
            "                                                     Endres, Miss. Caroline Louise       0.00      0.00      0.00       1.0\n",
            "                                                    Eustis, Miss. Elizabeth Mussey       0.00      0.00      0.00       1.0\n",
            "                                                         Fahlstrom, Mr. Arne Jonas       0.00      0.00      0.00       1.0\n",
            "                                                                Farrell, Mr. James       0.00      0.00      0.00       1.0\n",
            "                                Faunthorpe, Mrs. Lizzie (Elizabeth Anne Wilkinson)       0.00      0.00      0.00       1.0\n",
            "                                                   Fischer, Mr. Eberhard Thelander       0.00      0.00      0.00       1.0\n",
            "                                                                  Flynn, Mr. James       0.00      0.00      0.00       1.0\n",
            "                                                  Flynn, Mr. John Irwin (\"Irving\")       0.00      0.00      0.00       1.0\n",
            "                                                                   Foo, Mr. Choong       0.00      0.00      0.00       1.0\n",
            "                                              Ford, Miss. Doolina Margaret \"Daisy\"       0.00      0.00      0.00       1.0\n",
            "                                                  Ford, Miss. Robina Maggie \"Ruby\"       0.00      0.00      0.00       1.0\n",
            "                                                            Ford, Mr. William Neal       0.00      0.00      0.00       1.0\n",
            "                                           Ford, Mrs. Edward (Margaret Ann Watson)       0.00      0.00      0.00       1.0\n",
            "                                                   Foreman, Mr. Benjamin Laventall       0.00      0.00      0.00       1.0\n",
            "                                                    Fortune, Miss. Alice Elizabeth       0.00      0.00      0.00       1.0\n",
            "                                                        Fortune, Miss. Mabel Helen       0.00      0.00      0.00       1.0\n",
            "                                                    Fortune, Mr. Charles Alexander       0.00      0.00      0.00       1.0\n",
            "                                                           Fox, Mr. Stanley Hubert       0.00      0.00      0.00       1.0\n",
            "                                                    Francatelli, Miss. Laura Mabel       0.00      0.00      0.00       1.0\n",
            "                                                     Frauenthal, Dr. Henry William       0.00      0.00      0.00       1.0\n",
            "                                Frauenthal, Mrs. Henry William (Clara Heinsheimer)       0.00      0.00      0.00       1.0\n",
            "                                                Frolicher, Miss. Hedwig Margaritha       0.00      0.00      0.00       1.0\n",
            "                                                  Frolicher-Stehli, Mr. Maxmillian       0.00      0.00      0.00       1.0\n",
            "                                                  Frost, Mr. Anthony Wood \"Archie\"       0.00      0.00      0.00       1.0\n",
            "                                                                  Fry, Mr. Richard       0.00      0.00      0.00       1.0\n",
            "                                                         Funk, Miss. Annie Clemmer       0.00      0.00      0.00       1.0\n",
            "                                                       Futrelle, Mr. Jacques Heath       0.00      0.00      0.00       1.0\n",
            "                                      Futrelle, Mrs. Jacques Heath (Lily May Peel)       0.00      0.00      0.00       1.0\n",
            "                                                              Fynney, Mr. Joseph J       0.00      0.00      0.00       1.0\n",
            "                                                                Gale, Mr. Shadrach       0.00      0.00      0.00       1.0\n",
            "                                                             Gallagher, Mr. Martin       0.00      0.00      0.00       1.0\n",
            "                                                                Garfirth, Mr. John       0.00      0.00      0.00       1.0\n",
            "                                                              Garside, Miss. Ethel       0.00      0.00      0.00       1.0\n",
            "                                                               Gaskell, Mr. Alfred       0.00      0.00      0.00       1.0\n",
            "                                                               Gavey, Mr. Lawrence       0.00      0.00      0.00       1.0\n",
            "                                                            Gheorgheff, Mr. Stanio       0.00      0.00      0.00       1.0\n",
            "                                                                Giglio, Mr. Victor       0.00      0.00      0.00       1.0\n",
            "                                                       Giles, Mr. Frederick Edward       0.00      0.00      0.00       1.0\n",
            "                                                             Gilinski, Mr. Eliezer       0.00      0.00      0.00       1.0\n",
            "                                                            Gill, Mr. John William       0.00      0.00      0.00       1.0\n",
            "                                                      Gillespie, Mr. William Henry       0.00      0.00      0.00       1.0\n",
            "                                                  Gilnagh, Miss. Katherine \"Katie\"       0.00      0.00      0.00       1.0\n",
            "                                                       Givard, Mr. Hans Kristensen       0.00      0.00      0.00       1.0\n",
            "                                                          Goldenberg, Mr. Samuel L       0.00      0.00      0.00       1.0\n",
            "                                      Goldenberg, Mrs. Samuel L (Edwiga Grabowska)       0.00      0.00      0.00       1.0\n",
            "                                                         Goldschmidt, Mr. George B       0.00      0.00      0.00       1.0\n",
            "                                   Goldsmith, Master. Frank John William \"Frankie\"       0.00      0.00      0.00       1.0\n",
            "                                    Goldsmith, Mrs. Frank John (Emily Alice Brown)       0.00      0.00      0.00       1.0\n",
            "                                                Goodwin, Master. William Frederick       0.00      0.00      0.00       1.0\n",
            "                                                      Graham, Miss. Margaret Edith       0.00      0.00      0.00       1.0\n",
            "                                                         Graham, Mr. George Edward       0.00      0.00      0.00       1.0\n",
            "                                     Graham, Mrs. William Thompson (Edith Junkins)       0.00      0.00      0.00       1.0\n",
            "                                                           Green, Mr. George Henry       0.00      0.00      0.00       1.0\n",
            "                                                   Greenfield, Mr. William Bertram       0.00      0.00      0.00       1.0\n",
            "                                                  Gronnestad, Mr. Daniel Danielsen       0.00      0.00      0.00       1.0\n",
            "                                                          Guggenheim, Mr. Benjamin       0.00      0.00      0.00       1.0\n",
            "                                                      Gustafsson, Mr. Johan Birger       0.00      0.00      0.00       1.0\n",
            "                                                       Gustafsson, Mr. Karl Gideon       0.00      0.00      0.00       1.0\n",
            "                                                               Haas, Miss. Aloisia       0.00      0.00      0.00       1.0\n",
            "                                                   Hagland, Mr. Ingvald Olai Olsen       0.00      0.00      0.00       1.0\n",
            "                                              Hagland, Mr. Konrad Mathias Reiersen       0.00      0.00      0.00       1.0\n",
            "                                                                Hale, Mr. Reginald       0.00      0.00      0.00       1.0\n",
            "                                                         Hamalainen, Master. Viljo       0.00      0.00      0.00       1.0\n",
            "                                                                   Hampe, Mr. Leon       0.00      0.00      0.00       1.0\n",
            "                                                                Hanna, Mr. Mansour       0.00      0.00      0.00       1.0\n",
            "                                                           Hansen, Mr. Claus Peter       0.00      0.00      0.00       1.0\n",
            "                                                           Hansen, Mr. Henrik Juul       0.00      0.00      0.00       1.0\n",
            "                                                       Harder, Mr. George Achilles       0.00      0.00      0.00       1.0\n",
            "                                                      Harknett, Miss. Alice Phoebe       0.00      0.00      0.00       1.0\n",
            "                                                Harmer, Mr. Abraham (David Lishin)       0.00      0.00      0.00       1.0\n",
            "                                                 Harper, Miss. Annie Jessie \"Nina\"       0.00      0.00      0.00       1.0\n",
            "                                                         Harper, Mr. Henry Sleeper       0.00      0.00      0.00       1.0\n",
            "                                          Harper, Mrs. Henry Sleeper (Myna Haxtun)       0.00      0.00      0.00       1.0\n",
            "                                                                 Harper, Rev. John       0.00      0.00      0.00       1.0\n",
            "                                                                Harris, Mr. George       0.00      0.00      0.00       1.0\n",
            "                                                             Harrison, Mr. William       0.00      0.00      0.00       1.0\n",
            "                                                            Hart, Miss. Eva Miriam       0.00      0.00      0.00       1.0\n",
            "                                                                Hart, Mr. Benjamin       0.00      0.00      0.00       1.0\n",
            "                                                                   Hart, Mr. Henry       0.00      0.00      0.00       1.0\n",
            "                                       Hart, Mrs. Benjamin (Esther Ada Bloomfield)       0.00      0.00      0.00       1.0\n",
            "                                                                Hassab, Mr. Hammad       0.00      0.00      0.00       1.0\n",
            "                                                          Hassan, Mr. Houssein G N       0.00      0.00      0.00       1.0\n",
            "                                                    Hays, Miss. Margaret Bechstein       0.00      0.00      0.00       1.0\n",
            "                                Hays, Mrs. Charles Melville (Clara Jennings Gregg)       0.00      0.00      0.00       1.0\n",
            "                                                        Healy, Miss. Hanora \"Nora\"       0.00      0.00      0.00       1.0\n",
            "                                                      Hegarty, Miss. Hanora \"Nora\"       0.00      0.00      0.00       1.0\n",
            "                                                            Heikkinen, Miss. Laina       0.00      0.00      0.00       1.0\n",
            "                                                            Hendekovic, Mr. Ignjac       0.00      0.00      0.00       1.0\n",
            "                                                                Henry, Miss. Delia       0.00      0.00      0.00       1.0\n",
            "                                                               Herman, Miss. Alice       0.00      0.00      0.00       1.0\n",
            "                                                  Herman, Mrs. Samuel (Jane Laver)       0.00      0.00      0.00       1.0\n",
            "                                                         Hickman, Mr. Leonard Mark       0.00      0.00      0.00       1.0\n",
            "                                                       Hickman, Mr. Stanley George       0.00      0.00      0.00       1.0\n",
            "                                                      Hippach, Miss. Jean Gertrude       0.00      0.00      0.00       1.0\n",
            "                                                          Hirvonen, Miss. Hildur E       0.00      0.00      0.00       1.0\n",
            "                                                       Hocking, Mr. Richard George       0.00      0.00      0.00       1.0\n",
            "                                             Hocking, Mrs. Elizabeth (Eliza Needs)       0.00      0.00      0.00       1.0\n",
            "                                                                 Hold, Mr. Stephen       0.00      0.00      0.00       1.0\n",
            "                                                  Holm, Mr. John Fredrik Alexander       0.00      0.00      0.00       1.0\n",
            "                               Holverson, Mrs. Alexander Oskar (Mary Aline Towner)       0.00      0.00      0.00       1.0\n",
            "                                                   Homer, Mr. Harry (\"Mr E Haven\")       0.00      0.00      0.00       1.0\n",
            "                                                            Honkanen, Miss. Eliina       0.00      0.00      0.00       1.0\n",
            "                                                              Hood, Mr. Ambrose Jr       0.00      0.00      0.00       1.0\n",
            "                                                                  Horgan, Mr. John       0.00      0.00      0.00       1.0\n",
            "                                                          Hoyt, Mr. William Fisher       0.00      0.00      0.00       1.0\n",
            "                                   Hoyt, Mrs. Frederick Maxfield (Jane Anne Forby)       0.00      0.00      0.00       1.0\n",
            "                                                            Hunt, Mr. George Henry       0.00      0.00      0.00       1.0\n",
            "                                                      Ibrahim Shawah, Mr. Yousseff       0.00      0.00      0.00       1.0\n",
            "                                                               Icard, Miss. Amelie       0.00      0.00      0.00       1.0\n",
            "                                                               Ilett, Miss. Bertha       0.00      0.00      0.00       1.0\n",
            "                                                     Ilmakangas, Miss. Pieta Sofia       0.00      0.00      0.00       1.0\n",
            "                                                        Isham, Miss. Ann Elizabeth       0.00      0.00      0.00       1.0\n",
            "                                                                Ivanoff, Mr. Kanio       0.00      0.00      0.00       1.0\n",
            "                                                      Jacobsohn, Mr. Sidney Samuel       0.00      0.00      0.00       1.0\n",
            "                               Jacobsohn, Mrs. Sidney Samuel (Amy Frances Christy)       0.00      0.00      0.00       1.0\n",
            "                                                                Jalsevac, Mr. Ivan       0.00      0.00      0.00       1.0\n",
            "                                                            Jansson, Mr. Carl Olof       0.00      0.00      0.00       1.0\n",
            "                                                             Jardin, Mr. Jose Neto       0.00      0.00      0.00       1.0\n",
            "                                                           Jarvis, Mr. John Denzil       0.00      0.00      0.00       1.0\n",
            "                                                            Jensen, Mr. Hans Peder       0.00      0.00      0.00       1.0\n",
            "                                                           Jensen, Mr. Niels Peder       0.00      0.00      0.00       1.0\n",
            "                                                         Jensen, Mr. Svend Lauritz       0.00      0.00      0.00       1.0\n",
            "                                                               Jermyn, Miss. Annie       0.00      0.00      0.00       1.0\n",
            "                                                 Johannesen-Bratthammer, Mr. Bernt       0.00      0.00      0.00       1.0\n",
            "                                                        Johanson, Mr. Jakob Alfred       0.00      0.00      0.00       1.0\n",
            "                                                         Johansson, Mr. Karl Johan       0.00      0.00      0.00       1.0\n",
            "                                                   Johnson, Master. Harold Theodor       0.00      0.00      0.00       1.0\n",
            "                                                      Johnson, Miss. Eleanor Ileen       0.00      0.00      0.00       1.0\n",
            "                                                               Johnson, Mr. Alfred       0.00      0.00      0.00       1.0\n",
            "                                                      Johnson, Mr. Malkolm Joackim       0.00      0.00      0.00       1.0\n",
            "                                                   Johnson, Mr. William Cahoone Jr       0.00      0.00      0.00       1.0\n",
            "                                 Johnson, Mrs. Oscar W (Elisabeth Vilhelmina Berg)       0.00      0.00      0.00       1.0\n",
            "                                          Johnston, Miss. Catherine Helen \"Carrie\"       0.00      0.00      0.00       1.0\n",
            "                                                            Johnston, Mr. Andrew G       0.00      0.00      0.00       1.0\n",
            "                                                                Jonkoff, Mr. Lalio       0.00      0.00      0.00       1.0\n",
            "                                                                 Jonsson, Mr. Carl       0.00      0.00      0.00       1.0\n",
            "                                                           Jussila, Miss. Katriina       0.00      0.00      0.00       1.0\n",
            "                                                          Jussila, Miss. Mari Aina       0.00      0.00      0.00       1.0\n",
            "                                                               Jussila, Mr. Eiriik       0.00      0.00      0.00       1.0\n",
            "                                                        Kallio, Mr. Nikolai Erland       0.00      0.00      0.00       1.0\n",
            "                                                    Kalvik, Mr. Johannes Halvorsen       0.00      0.00      0.00       1.0\n",
            "                                                                 Kantor, Mr. Sinai       0.00      0.00      0.00       1.0\n",
            "                                                                 Karaic, Mr. Milan       0.00      0.00      0.00       1.0\n",
            "                                                         Karlsson, Mr. Nils August       0.00      0.00      0.00       1.0\n",
            "                                                                Karun, Miss. Manca       0.00      0.00      0.00       1.0\n",
            "                                                               Keane, Miss. Nora A       0.00      0.00      0.00       1.0\n",
            "                                                          Keane, Mr. Andrew \"Andy\"       0.00      0.00      0.00       1.0\n",
            "                                                                 Keefe, Mr. Arthur       0.00      0.00      0.00       1.0\n",
            "                                          Kelly, Miss. Anna Katherine \"Annie Kate\"       0.00      0.00      0.00       1.0\n",
            "                                                                 Kelly, Miss. Mary       0.00      0.00      0.00       1.0\n",
            "                                                                  Kelly, Mr. James       0.00      0.00      0.00       1.0\n",
            "                                                           Kent, Mr. Edward Austin       0.00      0.00      0.00       1.0\n",
            "                                                 Kenyon, Mrs. Frederick R (Marion)       0.00      0.00      0.00       1.0\n",
            "                                                           Kilgannon, Mr. Thomas J       0.00      0.00      0.00       1.0\n",
            "                                                      Kimball, Mr. Edwin Nelson Jr       0.00      0.00      0.00       1.0\n",
            "                                                                 Kink, Mr. Vincenz       0.00      0.00      0.00       1.0\n",
            "                                               Kink-Heilmann, Miss. Luise Gretchen       0.00      0.00      0.00       1.0\n",
            "                                                    Kirkland, Rev. Charles Leonard       0.00      0.00      0.00       1.0\n",
            "                                                                Klaber, Mr. Herman       0.00      0.00      0.00       1.0\n",
            "                                                            Klasen, Mr. Klas Albin       0.00      0.00      0.00       1.0\n",
            "                                                              Knight, Mr. Robert J       0.00      0.00      0.00       1.0\n",
            "                                                                Lahoud, Mr. Sarkis       0.00      0.00      0.00       1.0\n",
            "                                             Lahtinen, Mrs. William (Anna Sylfven)       0.00      0.00      0.00       1.0\n",
            "                                                    Laitinen, Miss. Kristina Sofia       0.00      0.00      0.00       1.0\n",
            "                                                                Laleff, Mr. Kristo       0.00      0.00      0.00       1.0\n",
            "                                                                      Lam, Mr. Ali       0.00      0.00      0.00       1.0\n",
            "                                                   Landergren, Miss. Aurora Adelia       0.00      0.00      0.00       1.0\n",
            "                                                                    Lang, Mr. Fang       0.00      0.00      0.00       1.0\n",
            "                                          Laroche, Miss. Simonne Marie Anne Andree       0.00      0.00      0.00       1.0\n",
            "                                            Laroche, Mr. Joseph Philippe Lemercier       0.00      0.00      0.00       1.0\n",
            "                             Laroche, Mrs. Joseph (Juliette Marie Louise Lafargue)       0.00      0.00      0.00       1.0\n",
            "                                                        Larsson, Mr. August Viktor       0.00      0.00      0.00       1.0\n",
            "                                                          Larsson, Mr. Bengt Edvin       0.00      0.00      0.00       1.0\n",
            "                                                       Leader, Dr. Alice (Farnham)       0.00      0.00      0.00       1.0\n",
            "                                                     Lefebre, Master. Henry Forbes       0.00      0.00      0.00       1.0\n",
            "                                                                Lefebre, Miss. Ida       0.00      0.00      0.00       1.0\n",
            "                                                            Lefebre, Miss. Jeannie       0.00      0.00      0.00       1.0\n",
            "                                                           Lefebre, Miss. Mathilde       0.00      0.00      0.00       1.0\n",
            "                                                        Leinonen, Mr. Antti Gustaf       0.00      0.00      0.00       1.0\n",
            "                                                        Leitch, Miss. Jessie Wills       0.00      0.00      0.00       1.0\n",
            "                                                        Lemberopolous, Mr. Peter L       0.00      0.00      0.00       1.0\n",
            "                                                      Lemore, Mrs. (Amelia Milley)       0.00      0.00      0.00       1.0\n",
            "                                                                 Lennon, Mr. Denis       0.00      0.00      0.00       1.0\n",
            "                                                               Leonard, Mr. Lionel       0.00      0.00      0.00       1.0\n",
            "                                                                 Lester, Mr. James       0.00      0.00      0.00       1.0\n",
            "                                                            Lesurer, Mr. Gustave J       0.00      0.00      0.00       1.0\n",
            "                                                            Levy, Mr. Rene Jacques       0.00      0.00      0.00       1.0\n",
            "                                                 Leyson, Mr. Robert William Norman       0.00      0.00      0.00       1.0\n",
            "                                                            Lievens, Mr. Rene Aime       0.00      0.00      0.00       1.0\n",
            "                                                 Lindblom, Miss. Augusta Charlotta       0.00      0.00      0.00       1.0\n",
            "                                                       Lindqvist, Mr. Eino William       0.00      0.00      0.00       1.0\n",
            "                                                         Lines, Miss. Mary Conover       0.00      0.00      0.00       1.0\n",
            "                                                                     Ling, Mr. Lee       0.00      0.00      0.00       1.0\n",
            "                                                          Lobb, Mr. William Arthur       0.00      0.00      0.00       1.0\n",
            "                                   Lobb, Mrs. William Arthur (Cordelia K Stanlick)       0.00      0.00      0.00       1.0\n",
            "                                                            Long, Mr. Milton Clyde       0.00      0.00      0.00       1.0\n",
            "                                                     Longley, Miss. Gretchen Fiske       0.00      0.00      0.00       1.0\n",
            "                               Louch, Mrs. Charles Alexander (Alice Adelaide Slow)       0.00      0.00      0.00       1.0\n",
            "                                                   Lovell, Mr. John Hall (\"Henry\")       0.00      0.00      0.00       1.0\n",
            "                                                       Lundahl, Mr. Johan Svensson       0.00      0.00      0.00       1.0\n",
            "                                                              Lurette, Miss. Elise       0.00      0.00      0.00       1.0\n",
            "                                                                 Mack, Mrs. (Mary)       0.00      0.00      0.00       1.0\n",
            "                                                 Madill, Miss. Georgette Alexandra       0.00      0.00      0.00       1.0\n",
            "                                                         Madsen, Mr. Fridtjof Arne       0.00      0.00      0.00       1.0\n",
            "                                                     Maenpaa, Mr. Matti Alexanteri       0.00      0.00      0.00       1.0\n",
            "                                                             Maioni, Miss. Roberta       0.00      0.00      0.00       1.0\n",
            "                                                             Mallet, Master. Andre       0.00      0.00      0.00       1.0\n",
            "                                                                Mallet, Mr. Albert       0.00      0.00      0.00       1.0\n",
            "                                                                  Mamee, Mr. Hanna       0.00      0.00      0.00       1.0\n",
            "                                                                Mangan, Miss. Mary       0.00      0.00      0.00       1.0\n",
            "                                                          Mannion, Miss. Margareth       0.00      0.00      0.00       1.0\n",
            "                                                              Marechal, Mr. Pierre       0.00      0.00      0.00       1.0\n",
            "                                                                Markoff, Mr. Marin       0.00      0.00      0.00       1.0\n",
            "                                                                Markun, Mr. Johann       0.00      0.00      0.00       1.0\n",
            "                                                         Marvin, Mr. Daniel Warner       0.00      0.00      0.00       1.0\n",
            "                                                           Masselmani, Mrs. Fatima       0.00      0.00      0.00       1.0\n",
            "                                                        Matthews, Mr. William John       0.00      0.00      0.00       1.0\n",
            "                                  Mayne, Mlle. Berthe Antonine (\"Mrs de Villiers\")       0.00      0.00      0.00       1.0\n",
            "                                                      McCormack, Mr. Thomas Joseph       0.00      0.00      0.00       1.0\n",
            "                                                                McCoy, Miss. Agnes       0.00      0.00      0.00       1.0\n",
            "                                                                McCoy, Mr. Bernard       0.00      0.00      0.00       1.0\n",
            "                                                    McDermott, Miss. Brigdet Delia       0.00      0.00      0.00       1.0\n",
            "                                                         McGough, Mr. James Robert       0.00      0.00      0.00       1.0\n",
            "                                                       McGowan, Miss. Anna \"Annie\"       0.00      0.00      0.00       1.0\n",
            "                                                           McKane, Mr. Peter David       0.00      0.00      0.00       1.0\n",
            "                                                               McMahon, Mr. Martin       0.00      0.00      0.00       1.0\n",
            "                                                                 McNamee, Mr. Neal       0.00      0.00      0.00       1.0\n",
            "                                                    Meanwell, Miss. (Marion Ogden)       0.00      0.00      0.00       1.0\n",
            "                                           Meek, Mrs. Thomas (Annie Louise Rowley)       0.00      0.00      0.00       1.0\n",
            "                                         Mellinger, Mrs. (Elizabeth Anne Maidment)       0.00      0.00      0.00       1.0\n",
            "                                                         Mellors, Mr. William John       0.00      0.00      0.00       1.0\n",
            "                                                                  Meo, Mr. Alfonzo       0.00      0.00      0.00       1.0\n",
            "                                                               Mernagh, Mr. Robert       0.00      0.00      0.00       1.0\n",
            "                                                                 Meyer, Mr. August       0.00      0.00      0.00       0.0\n",
            "                                                           Meyer, Mr. Edgar Joseph       0.00      0.00      0.00       1.0\n",
            "                                             Meyer, Mrs. Edgar Joseph (Leila Saks)       0.00      0.00      0.00       1.0\n",
            "                                                         Millet, Mr. Francis Davis       0.00      0.00      0.00       1.0\n",
            "                                                      Milling, Mr. Jacob Christian       0.00      0.00      0.00       1.0\n",
            "                                                            Minahan, Miss. Daisy E       0.00      0.00      0.00       1.0\n",
            "                                                                  Mineff, Mr. Ivan       0.00      0.00      0.00       1.0\n",
            "                                                             Mionoff, Mr. Stoytcho       0.00      0.00      0.00       1.0\n",
            "                                                                 Mitkoff, Mr. Mito       0.00      0.00      0.00       1.0\n",
            "                                                 Mockler, Miss. Helen Mary \"Ellie\"       0.00      0.00      0.00       1.0\n",
            "                                                           Moen, Mr. Sigurd Hansen       0.00      0.00      0.00       1.0\n",
            "                                                        Molson, Mr. Harry Markland       0.00      0.00      0.00       1.0\n",
            "                                                               Moor, Master. Meier       0.00      0.00      0.00       1.0\n",
            "                                                                Moor, Mrs. (Beila)       0.00      0.00      0.00       1.0\n",
            "                                                        Moore, Mr. Leonard Charles       0.00      0.00      0.00       1.0\n",
            "                                                               Moran, Miss. Bertha       0.00      0.00      0.00       1.0\n",
            "                                                               Moran, Mr. Daniel J       0.00      0.00      0.00       1.0\n",
            "                                                                  Moran, Mr. James       0.00      0.00      0.00       1.0\n",
            "                                    Morley, Mr. Henry Samuel (\"Mr Henry Marshall\")       0.00      0.00      0.00       1.0\n",
            "                                                               Morley, Mr. William       0.00      0.00      0.00       1.0\n",
            "                                                            Moss, Mr. Albert Johan       0.00      0.00      0.00       1.0\n",
            "                                                          Moubarek, Master. Gerios       0.00      0.00      0.00       1.0\n",
            "                                                    Moussa, Mrs. (Mantoura Boulos)       0.00      0.00      0.00       1.0\n",
            "                                                          Moutal, Mr. Rahamin Haim       0.00      0.00      0.00       1.0\n",
            "                                                  Mullens, Miss. Katherine \"Katie\"       0.00      0.00      0.00       1.0\n",
            "                                                               Murdlin, Mr. Joseph       0.00      0.00      0.00       1.0\n",
            "                                                       Murphy, Miss. Margaret Jane       0.00      0.00      0.00       1.0\n",
            "                                           Myhrman, Mr. Pehr Fabian Oliver Malkolm       0.00      0.00      0.00       1.0\n",
            "                                                              Naidenoff, Mr. Penko       0.00      0.00      0.00       1.0\n",
            "                                                  Najib, Miss. Adele Kiamie \"Jane\"       0.00      0.00      0.00       1.0\n",
            "                                                       Nakid, Miss. Maria (\"Mary\")       0.00      0.00      0.00       1.0\n",
            "                                                                  Nakid, Mr. Sahid       0.00      0.00      0.00       1.0\n",
            "                                                                Nankoff, Mr. Minko       0.00      0.00      0.00       1.0\n",
            "                                                              Nasser, Mr. Nicholas       0.00      0.00      0.00       1.0\n",
            "                                                             Natsch, Mr. Charles H       0.00      0.00      0.00       1.0\n",
            "                                                        Navratil, Master. Michel M       0.00      0.00      0.00       1.0\n",
            "                                          Navratil, Mr. Michel (\"Louis M Hoffman\")       0.00      0.00      0.00       1.0\n",
            "                                                           Newell, Miss. Madeleine       0.00      0.00      0.00       1.0\n",
            "                                                            Newell, Miss. Marjorie       0.00      0.00      0.00       1.0\n",
            "                                                        Newell, Mr. Arthur Webster       0.00      0.00      0.00       1.0\n",
            "                                                      Nicholls, Mr. Joseph Charles       0.00      0.00      0.00       1.0\n",
            "                                                      Nicholson, Mr. Arthur Ernest       0.00      0.00      0.00       1.0\n",
            "                                                      Nicola-Yarred, Master. Elias       0.00      0.00      0.00       1.0\n",
            "                                                   Nilsson, Miss. Helmina Josefina       0.00      0.00      0.00       1.0\n",
            "                                                    Nirva, Mr. Iisakki Antino Aijo       0.00      0.00      0.00       1.0\n",
            "                                                                Niskanen, Mr. Juha       0.00      0.00      0.00       1.0\n",
            "                                                        Norman, Mr. Robert Douglas       0.00      0.00      0.00       1.0\n",
            "                                                      Nosworthy, Mr. Richard Cater       0.00      0.00      0.00       1.0\n",
            "                                                      Nye, Mrs. (Elizabeth Ramell)       0.00      0.00      0.00       1.0\n",
            "                                                          Nysten, Miss. Anna Sofia       0.00      0.00      0.00       1.0\n",
            "                                                         Nysveen, Mr. Johan Hansen       0.00      0.00      0.00       1.0\n",
            "                                                               O'Brien, Mr. Thomas       0.00      0.00      0.00       1.0\n",
            "                                                              O'Brien, Mr. Timothy       0.00      0.00      0.00       1.0\n",
            "                                   O'Brien, Mrs. Thomas (Johanna \"Hannah\" Godfrey)       0.00      0.00      0.00       1.0\n",
            "                                                          O'Connell, Mr. Patrick D       0.00      0.00      0.00       1.0\n",
            "                                                         O'Driscoll, Miss. Bridget       0.00      0.00      0.00       1.0\n",
            "                                                     O'Dwyer, Miss. Ellen \"Nellie\"       0.00      0.00      0.00       1.0\n",
            "                                                     O'Leary, Miss. Hanora \"Norah\"       0.00      0.00      0.00       1.0\n",
            "                                                    O'Sullivan, Miss. Bridget Mary       0.00      0.00      0.00       1.0\n",
            "                                                            Odahl, Mr. Nils Martin       0.00      0.00      0.00       1.0\n",
            "                                                                Ohman, Miss. Velin       0.00      0.00      0.00       1.0\n",
            "                                                          Olsen, Mr. Henry Margido       0.00      0.00      0.00       1.0\n",
            "                                                  Olsen, Mr. Karl Siegwart Andreas       0.00      0.00      0.00       1.0\n",
            "                                                             Olsen, Mr. Ole Martin       0.00      0.00      0.00       1.0\n",
            "                                                               Olsson, Miss. Elina       0.00      0.00      0.00       1.0\n",
            "                                                  Olsson, Mr. Nils Johan Goransson       0.00      0.00      0.00       1.0\n",
            "                                                       Olsvigen, Mr. Thor Anderson       0.00      0.00      0.00       1.0\n",
            "                                                           Oreskovic, Miss. Marija       0.00      0.00      0.00       1.0\n",
            "                                                               Oreskovic, Mr. Luka       0.00      0.00      0.00       1.0\n",
            "                                                               Osen, Mr. Olaf Elon       0.00      0.00      0.00       1.0\n",
            "                                                                  Osman, Mrs. Mara       0.00      0.00      0.00       1.0\n",
            "                                                    Ostby, Mr. Engelhart Cornelius       0.00      0.00      0.00       1.0\n",
            "                                                                Otter, Mr. Richard       0.00      0.00      0.00       1.0\n",
            "                                                        Padro y Manent, Mr. Julian       0.00      0.00      0.00       1.0\n",
            "                                                                  Pain, Dr. Alfred       0.00      0.00      0.00       1.0\n",
            "                                                        Palsson, Miss. Stina Viola       0.00      0.00      0.00       1.0\n",
            "                                                     Palsson, Miss. Torborg Danira       0.00      0.00      0.00       1.0\n",
            "                                       Palsson, Mrs. Nils (Alma Cornelia Berglund)       0.00      0.00      0.00       1.0\n",
            "                                                      Panula, Master. Eino Viljami       0.00      0.00      0.00       1.0\n",
            "                                                        Panula, Master. Juha Niilo       0.00      0.00      0.00       1.0\n",
            "                                                         Panula, Mr. Ernesti Arvid       0.00      0.00      0.00       1.0\n",
            "                                                          Panula, Mr. Jaako Arnold       0.00      0.00      0.00       1.0\n",
            "                                                     Parr, Mr. William Henry Marsh       0.00      0.00      0.00       1.0\n",
            "                                                               Partner, Mr. Austen       0.00      0.00      0.00       1.0\n",
            "                                                                  Pasic, Mr. Jakob       0.00      0.00      0.00       1.0\n",
            "                                                              Patchett, Mr. George       0.00      0.00      0.00       1.0\n",
            "                                                               Paulner, Mr. Uscher       0.00      0.00      0.00       1.0\n",
            "                                                               Pavlovic, Mr. Stefo       0.00      0.00      0.00       1.0\n",
            "                                                 Pears, Mrs. Thomas (Edith Wearne)       0.00      0.00      0.00       1.0\n",
            "                                                               Peduzzi, Mr. Joseph       0.00      0.00      0.00       1.0\n",
            "                                                             Pekoniemi, Mr. Edvard       0.00      0.00      0.00       1.0\n",
            "                                        Penasco y Castellana, Mr. Victor de Satode       0.00      0.00      0.00       1.0\n",
            "Penasco y Castellana, Mrs. Victor de Satode (Maria Josefa Perez de Soto y Vallejo)       0.00      0.00      0.00       1.0\n",
            "                                                   Pengelly, Mr. Frederick William       0.00      0.00      0.00       1.0\n",
            "                                                            Perkin, Mr. John Henry       0.00      0.00      0.00       1.0\n",
            "                                                                  Pernot, Mr. Rene       0.00      0.00      0.00       1.0\n",
            "                                                             Perreault, Miss. Anne       0.00      0.00      0.00       1.0\n",
            "                                                          Persson, Mr. Ernst Ulrik       0.00      0.00      0.00       1.0\n",
            "                                                                 Peter, Miss. Anna       0.00      0.00      0.00       1.0\n",
            "                                                               Peters, Miss. Katie       0.00      0.00      0.00       1.0\n",
            "                                                           Petranec, Miss. Matilda       0.00      0.00      0.00       1.0\n",
            "                                                              Petroff, Mr. Nedelio       0.00      0.00      0.00       1.0\n",
            "                                                  Petroff, Mr. Pastcho (\"Pentcho\")       0.00      0.00      0.00       1.0\n",
            "                                                         Petterson, Mr. Johan Emil       0.00      0.00      0.00       1.0\n",
            "                                                   Pettersson, Miss. Ellen Natalia       0.00      0.00      0.00       1.0\n",
            "                                                    Peuchen, Major. Arthur Godfrey       0.00      0.00      0.00       1.0\n",
            "               Phillips, Miss. Kate Florence (\"Mrs Kate Louise Phillips Marshall\")       0.00      0.00      0.00       1.0\n",
            "                                                               Pinsky, Mrs. (Rosa)       0.00      0.00      0.00       1.0\n",
            "                                                            Plotcharsky, Mr. Vasil       0.00      0.00      0.00       1.0\n",
            "                                                              Ponesell, Mr. Martin       0.00      0.00      0.00       1.0\n",
            "                                                    Porter, Mr. Walter Chamberlain       0.00      0.00      0.00       1.0\n",
            "                                     Potter, Mrs. Thomas Jr (Lily Alexenia Wilson)       0.00      0.00      0.00       1.0\n",
            "                                                          Quick, Miss. Phyllis May       0.00      0.00      0.00       1.0\n",
            "                                     Quick, Mrs. Frederick Charles (Jane Richards)       0.00      0.00      0.00       1.0\n",
            "                                                             Radeff, Mr. Alexander       0.00      0.00      0.00       1.0\n",
            "                                                                  Razi, Mr. Raihed       0.00      0.00      0.00       1.0\n",
            "                                                            Reed, Mr. James George       0.00      0.00      0.00       1.0\n",
            "                                                                   Rekic, Mr. Tido       0.00      0.00      0.00       1.0\n",
            "                                                           Renouf, Mr. Peter Henry       0.00      0.00      0.00       1.0\n",
            "                                       Renouf, Mrs. Peter Henry (Lillian Jefferys)       0.00      0.00      0.00       1.0\n",
            "                                                   Reuchlin, Jonkheer. John George       0.00      0.00      0.00       1.0\n",
            "                                                         Reynaldo, Ms. Encarnacion       0.00      0.00      0.00       1.0\n",
            "                                                              Rice, Master. Eugene       0.00      0.00      0.00       1.0\n",
            "                                                         Rice, Master. George Hugh       0.00      0.00      0.00       1.0\n",
            "                                              Rice, Mrs. William (Margaret Norton)       0.00      0.00      0.00       1.0\n",
            "                                                                Richard, Mr. Emile       0.00      0.00      0.00       1.0\n",
            "                                                    Richards, Master. William Rowe       0.00      0.00      0.00       1.0\n",
            "                                             Richards, Mrs. Sidney (Emily Hocking)       0.00      0.00      0.00       1.0\n",
            "                                                              Ridsdale, Miss. Lucy       0.00      0.00      0.00       1.0\n",
            "                                                               Ringhini, Mr. Sante       0.00      0.00      0.00       1.0\n",
            "                                                              Rintamaki, Mr. Matti       0.00      0.00      0.00       0.0\n",
            "                                                          Risien, Mr. Samuel Beard       0.00      0.00      0.00       1.0\n",
            "                                                               Robbins, Mr. Victor       0.00      0.00      0.00       1.0\n",
            "                             Robert, Mrs. Edward Scott (Elisabeth Walton McMillan)       0.00      0.00      0.00       1.0\n",
            "                                    Robins, Mrs. Alexander A (Grace Charity Laury)       0.00      0.00      0.00       1.0\n",
            "                                              Roebling, Mr. Washington Augustus II       0.00      0.00      0.00       1.0\n",
            "                                                          Rogers, Mr. William John       0.00      0.00      0.00       1.0\n",
            "                                                        Rommetvedt, Mr. Knud Paust       0.00      0.00      0.00       1.0\n",
            "                                                             Rood, Mr. Hugh Roscoe       0.00      0.00      0.00       1.0\n",
            "                                                       Rosblom, Mr. Viktor Richard       0.00      0.00      0.00       1.0\n",
            "                                          Rosblom, Mrs. Viktor (Helena Wilhelmina)       0.00      0.00      0.00       1.0\n",
            "                                                               Ross, Mr. John Hugo       0.00      0.00      0.00       1.0\n",
            "                          Rothes, the Countess. of (Lucy Noel Martha Dyer-Edwards)       0.00      0.00      0.00       1.0\n",
            "                                                          Rouse, Mr. Richard Henry       0.00      0.00      0.00       1.0\n",
            "                                                      Rush, Mr. Alfred George John       0.00      0.00      0.00       1.0\n",
            "                                                                 Ryan, Mr. Patrick       0.00      0.00      0.00       1.0\n",
            "                                                        Ryerson, Miss. Emily Borie       0.00      0.00      0.00       1.0\n",
            "                                                                    Saad, Mr. Amin       0.00      0.00      0.00       1.0\n",
            "                                                             Saalfeld, Mr. Adolphe       0.00      0.00      0.00       1.0\n",
            "                                                              Sadlier, Mr. Matthew       0.00      0.00      0.00       1.0\n",
            "                                                        Sage, Master. Thomas Henry       0.00      0.00      0.00       1.0\n",
            "                                                      Sage, Miss. Constance Gladys       0.00      0.00      0.00       1.0\n",
            "                                                           Sage, Miss. Stella Anna       0.00      0.00      0.00       1.0\n",
            "                                                               Sage, Mr. Frederick       0.00      0.00      0.00       1.0\n",
            "                                                          Sage, Mr. George John Jr       0.00      0.00      0.00       1.0\n",
            "                                                         Salonen, Mr. Johan Werner       0.00      0.00      0.00       1.0\n",
            "                                                               Samaan, Mr. Youssef       0.00      0.00      0.00       1.0\n",
            "                                                   Sandstrom, Miss. Marguerite Rut       0.00      0.00      0.00       1.0\n",
            "                               Sandstrom, Mrs. Hjalmar (Agnes Charlotta Bengtsson)       0.00      0.00      0.00       1.0\n",
            "                                                     Sawyer, Mr. Frederick Charles       0.00      0.00      0.00       1.0\n",
            "                                                                Scanlan, Mr. James       0.00      0.00      0.00       1.0\n",
            "                                                                Sdycoff, Mr. Todor       0.00      0.00      0.00       1.0\n",
            "                                        Sedgwick, Mr. Charles Frederick Waddington       0.00      0.00      0.00       1.0\n",
            "                                                       Seward, Mr. Frederic Kimber       0.00      0.00      0.00       1.0\n",
            "                                                       Sheerlinck, Mr. Jan Baptist       0.00      0.00      0.00       1.0\n",
            "                                                   Shellard, Mr. Frederick William       0.00      0.00      0.00       1.0\n",
            "                                      Shelley, Mrs. William (Imanita Parrish Hall)       0.00      0.00      0.00       1.0\n",
            "                                                       Shorney, Mr. Charles Joseph       0.00      0.00      0.00       1.0\n",
            "                                                         Shutes, Miss. Elizabeth W       0.00      0.00      0.00       1.0\n",
            "                                                  Silverthorne, Mr. Spencer Victor       0.00      0.00      0.00       1.0\n",
            "                                                         Silvey, Mr. William Baird       0.00      0.00      0.00       1.0\n",
            "                                                                 Simmons, Mr. John       0.00      0.00      0.00       1.0\n",
            "                                               Simonius-Blumer, Col. Oberst Alfons       0.00      0.00      0.00       1.0\n",
            "                                                             Sinkkonen, Miss. Anna       0.00      0.00      0.00       1.0\n",
            "                                                             Sirayanian, Mr. Orsen       0.00      0.00      0.00       1.0\n",
            "                                                                 Sivic, Mr. Husein       0.00      0.00      0.00       1.0\n",
            "                                                         Sivola, Mr. Antti Wilhelm       0.00      0.00      0.00       1.0\n",
            "                                                         Sjoblom, Miss. Anna Sofia       0.00      0.00      0.00       1.0\n",
            "                                                         Sjostedt, Mr. Ernst Adolf       0.00      0.00      0.00       1.0\n",
            "                                                             Skoog, Master. Harald       0.00      0.00      0.00       1.0\n",
            "                                                      Skoog, Master. Karl Thorsten       0.00      0.00      0.00       1.0\n",
            "                                                                Skoog, Miss. Mabel       0.00      0.00      0.00       1.0\n",
            "                                   Skoog, Mrs. William (Anna Bernhardina Karlsson)       0.00      0.00      0.00       1.0\n",
            "                                                         Slayter, Miss. Hilda Mary       0.00      0.00      0.00       1.0\n",
            "                                                     Slocovski, Mr. Selman Francis       0.00      0.00      0.00       1.0\n",
            "                                                               Smiljanic, Mr. Mile       0.00      0.00      0.00       1.0\n",
            "                                                         Smith, Miss. Marion Elsie       0.00      0.00      0.00       1.0\n",
            "                                                           Smith, Mr. James Clinch       0.00      0.00      0.00       1.0\n",
            "                                                        Smith, Mr. Richard William       0.00      0.00      0.00       1.0\n",
            "                                                                 Smith, Mr. Thomas       0.00      0.00      0.00       1.0\n",
            "                                                    Sobey, Mr. Samuel James Hayden       0.00      0.00      0.00       1.0\n",
            "                                        Soholt, Mr. Peter Andreas Lauritz Andersen       0.00      0.00      0.00       1.0\n",
            "                          Spedden, Mrs. Frederic Oakley (Margaretta Corning Stone)       0.00      0.00      0.00       1.0\n",
            "                                                         Stahelin-Maeglin, Dr. Max       0.00      0.00      0.00       1.0\n",
            "                                                                 Staneff, Mr. Ivan       0.00      0.00      0.00       1.0\n",
            "                                                               Stankovic, Mr. Ivan       0.00      0.00      0.00       1.0\n",
            "                                                   Stanley, Miss. Amy Zillah Elsie       0.00      0.00      0.00       1.0\n",
            "                                                        Stanley, Mr. Edward Roland       0.00      0.00      0.00       1.0\n",
            "                                                         Stead, Mr. William Thomas       0.00      0.00      0.00       1.0\n",
            "                                                             Stewart, Mr. Albert A       0.00      0.00      0.00       1.0\n",
            "                                         Stone, Mrs. George Nelson (Martha Evelyn)       0.00      0.00      0.00       1.0\n",
            "                                                              Stoytcheff, Mr. Ilia       0.00      0.00      0.00       1.0\n",
            "                                                       Strandberg, Miss. Ida Sofia       0.00      0.00      0.00       1.0\n",
            "                                                                Stranden, Mr. Juho       0.00      0.00      0.00       1.0\n",
            "                                                        Strom, Miss. Telma Matilda       0.00      0.00      0.00       1.0\n",
            "                                        Strom, Mrs. Wilhelm (Elna Matilda Persson)       0.00      0.00      0.00       1.0\n",
            "                                                         Sundman, Mr. Johan Julian       0.00      0.00      0.00       1.0\n",
            "                                                            Sutehall, Mr. Henry Jr       0.00      0.00      0.00       1.0\n",
            "                                                             Sutton, Mr. Frederick       0.00      0.00      0.00       1.0\n",
            "                                                               Svensson, Mr. Johan       0.00      0.00      0.00       1.0\n",
            "                               Swift, Mrs. Frederick Joel (Margaret Welles Barron)       0.00      0.00      0.00       1.0\n",
            "                                                               Taussig, Miss. Ruth       0.00      0.00      0.00       1.0\n",
            "                                                                 Taussig, Mr. Emil       0.00      0.00      0.00       1.0\n",
            "                                            Taussig, Mrs. Emil (Tillie Mandelbaum)       0.00      0.00      0.00       1.0\n",
            "                                                          Taylor, Mr. Elmer Zebley       0.00      0.00      0.00       1.0\n",
            "                                                       Thayer, Mr. John Borland Jr       0.00      0.00      0.00       1.0\n",
            "                              Thayer, Mrs. John Borland (Marian Longstreth Morris)       0.00      0.00      0.00       1.0\n",
            "                                                      Theobald, Mr. Thomas Leonard       0.00      0.00      0.00       1.0\n",
            "                                                   Thomas, Master. Assad Alexander       0.00      0.00      0.00       1.0\n",
            "                                                        Thorneycroft, Mr. Percival       0.00      0.00      0.00       1.0\n",
            "                                 Thorneycroft, Mrs. Percival (Florence Kate White)       0.00      0.00      0.00       1.0\n",
            "                                                                Tikkanen, Mr. Juho       0.00      0.00      0.00       1.0\n",
            "                                                                  Tobin, Mr. Roger       0.00      0.00      0.00       1.0\n",
            "                                                               Todoroff, Mr. Lalio       0.00      0.00      0.00       1.0\n",
            "                                                        Tomlin, Mr. Ernest Portage       0.00      0.00      0.00       1.0\n",
            "                                                               Toomey, Miss. Ellen       0.00      0.00      0.00       1.0\n",
            "                                                         Torber, Mr. Ernst William       0.00      0.00      0.00       1.0\n",
            "                                                      Tornquist, Mr. William Henry       0.00      0.00      0.00       1.0\n",
            "                                                                 Toufik, Mr. Nakli       0.00      0.00      0.00       1.0\n",
            "                                                      Troupiansky, Mr. Moses Aaron       0.00      0.00      0.00       1.0\n",
            "                                                  Trout, Mrs. William H (Jessie L)       0.00      0.00      0.00       1.0\n",
            "                                               Troutt, Miss. Edwina Celia \"Winnie\"       0.00      0.00      0.00       1.0\n",
            "                                                               Turcin, Mr. Stjepan       0.00      0.00      0.00       1.0\n",
            "                                                           Turja, Miss. Anna Sofia       0.00      0.00      0.00       1.0\n",
            "                                                            Turkula, Mrs. (Hedwig)       0.00      0.00      0.00       1.0\n",
            "                                                   Turpin, Mr. William John Robert       0.00      0.00      0.00       1.0\n",
            "                          Turpin, Mrs. William John Robert (Dorothy Ann Wonnacott)       0.00      0.00      0.00       1.0\n",
            "                                                          Uruchurtu, Don. Manuel E       0.00      0.00      0.00       1.0\n",
            "                                                         Van Impe, Miss. Catharina       0.00      0.00      0.00       1.0\n",
            "                              Van Impe, Mrs. Jean Baptiste (Rosalie Paula Govaert)       0.00      0.00      0.00       1.0\n",
            "                                                  Vande Velde, Mr. Johannes Joseph       0.00      0.00      0.00       1.0\n",
            "                                                    Vande Walle, Mr. Nestor Cyriel       0.00      0.00      0.00       1.0\n",
            "                                                       Vander Cruyssen, Mr. Victor       0.00      0.00      0.00       1.0\n",
            "                                                Vander Planke, Miss. Augusta Maria       0.00      0.00      0.00       1.0\n",
            "                                                   Vander Planke, Mr. Leo Edmondus       0.00      0.00      0.00       1.0\n",
            "                           Vander Planke, Mrs. Julius (Emelia Maria Vandemoortele)       0.00      0.00      0.00       1.0\n",
            "                                              Vestrom, Miss. Hulda Amanda Adolfina       0.00      0.00      0.00       1.0\n",
            "                                                                   Vovk, Mr. Janko       0.00      0.00      0.00       1.0\n",
            "                                                      Walker, Mr. William Anderson       0.00      0.00      0.00       1.0\n",
            "                                                                  Ward, Miss. Anna       0.00      0.00      0.00       1.0\n",
            "                                  Warren, Mrs. Frank Manley (Anna Sophia Atkinson)       0.00      0.00      0.00       1.0\n",
            "                                                        Watson, Mr. Ennis Hastings       0.00      0.00      0.00       1.0\n",
            "                                Watt, Mrs. James (Elizabeth \"Bessie\" Inglis Milne)       0.00      0.00      0.00       1.0\n",
            "                                                               Webber, Miss. Susan       0.00      0.00      0.00       1.0\n",
            "                                                                 Webber, Mr. James       0.00      0.00      0.00       1.0\n",
            "                                                                   Weir, Col. John       0.00      0.00      0.00       1.0\n",
            "                                     Weisz, Mrs. Leopold (Mathilde Francoise Pede)       0.00      0.00      0.00       1.0\n",
            "                                                                 Wells, Miss. Joan       0.00      0.00      0.00       1.0\n",
            "                                                      West, Miss. Constance Mirium       0.00      0.00      0.00       1.0\n",
            "                                                             West, Mr. Edwy Arthur       0.00      0.00      0.00       1.0\n",
            "                                                             Wheadon, Mr. Edward H       0.00      0.00      0.00       1.0\n",
            "                                                       White, Mr. Percival Wayland       0.00      0.00      0.00       1.0\n",
            "                                                         White, Mr. Richard Frasar       0.00      0.00      0.00       0.0\n",
            "                                        Wick, Mrs. George Dennick (Mary Hitchcock)       0.00      0.00      0.00       1.0\n",
            "                                                  Widegren, Mr. Carl/Charles Peter       0.00      0.00      0.00       1.0\n",
            "                                                         Widener, Mr. Harry Elkins       0.00      0.00      0.00       1.0\n",
            "                                                         Wiklund, Mr. Jakob Alfred       0.00      0.00      0.00       1.0\n",
            "                                                             Wilhelms, Mr. Charles       0.00      0.00      0.00       1.0\n",
            "                                                                Willey, Mr. Edward       0.00      0.00      0.00       1.0\n",
            "                                                       Williams, Mr. Charles Duane       0.00      0.00      0.00       1.0\n",
            "                                                      Williams, Mr. Charles Eugene       0.00      0.00      0.00       1.0\n",
            "                                                              Williams, Mr. Leslie       0.00      0.00      0.00       1.0\n",
            "                                            Williams-Lambert, Mr. Fletcher Fellows       0.00      0.00      0.00       1.0\n",
            "                                                               Windelov, Mr. Einar       0.00      0.00      0.00       1.0\n",
            "                                                                 Woolner, Mr. Hugh       0.00      0.00      0.00       1.0\n",
            "                                                                Wright, Mr. George       0.00      0.00      0.00       1.0\n",
            "                                                               Yasbeck, Mr. Antoni       0.00      0.00      0.00       1.0\n",
            "                                           Yasbeck, Mrs. Antoni (Selini Alexander)       0.00      0.00      0.00       1.0\n",
            "                                                          Young, Miss. Marie Grice       0.00      0.00      0.00       1.0\n",
            "                                                              Youseff, Mr. Gerious       0.00      0.00      0.00       1.0\n",
            "                                                             Yousseff, Mr. Gerious       0.00      0.00      0.00       1.0\n",
            "                                            Yrois, Miss. Henriette (\"Mrs Harbeck\")       0.00      0.00      0.00       1.0\n",
            "                                                              Zabour, Miss. Hileni       0.00      0.00      0.00       1.0\n",
            "                                                             Zabour, Miss. Thamine       0.00      0.00      0.00       1.0\n",
            "                                                                Zimmerman, Mr. Leo       0.00      0.00      0.00       1.0\n",
            "                                      de Messemaeker, Mrs. Guillaume Joseph (Emma)       0.00      0.00      0.00       1.0\n",
            "                                                           de Mulder, Mr. Theodore       0.00      0.00      0.00       1.0\n",
            "                                                         de Pelsmaeker, Mr. Alfons       0.00      0.00      0.00       1.0\n",
            "                                                         del Carlo, Mr. Sebastiano       0.00      0.00      0.00       1.0\n",
            "                                                   van Billiard, Mr. Austin Blyler       0.00      0.00      0.00       1.0\n",
            "                                                       van Melkebeke, Mr. Philemon       0.00      0.00      0.00       1.0\n",
            "\n",
            "                                                                          accuracy                           0.00     713.0\n",
            "                                                                         macro avg       0.00      0.00      0.00     713.0\n",
            "                                                                      weighted avg       0.00      0.00      0.00     713.0\n",
            "\n"
          ]
        },
        {
          "output_type": "stream",
          "name": "stderr",
          "text": [
            "/usr/local/lib/python3.10/dist-packages/sklearn/metrics/_classification.py:1344: UndefinedMetricWarning: Precision and F-score are ill-defined and being set to 0.0 in labels with no predicted samples. Use `zero_division` parameter to control this behavior.\n",
            "  _warn_prf(average, modifier, msg_start, len(result))\n",
            "/usr/local/lib/python3.10/dist-packages/sklearn/metrics/_classification.py:1344: UndefinedMetricWarning: Recall and F-score are ill-defined and being set to 0.0 in labels with no true samples. Use `zero_division` parameter to control this behavior.\n",
            "  _warn_prf(average, modifier, msg_start, len(result))\n",
            "/usr/local/lib/python3.10/dist-packages/sklearn/metrics/_classification.py:1344: UndefinedMetricWarning: Precision and F-score are ill-defined and being set to 0.0 in labels with no predicted samples. Use `zero_division` parameter to control this behavior.\n",
            "  _warn_prf(average, modifier, msg_start, len(result))\n",
            "/usr/local/lib/python3.10/dist-packages/sklearn/metrics/_classification.py:1344: UndefinedMetricWarning: Recall and F-score are ill-defined and being set to 0.0 in labels with no true samples. Use `zero_division` parameter to control this behavior.\n",
            "  _warn_prf(average, modifier, msg_start, len(result))\n",
            "/usr/local/lib/python3.10/dist-packages/sklearn/metrics/_classification.py:1344: UndefinedMetricWarning: Precision and F-score are ill-defined and being set to 0.0 in labels with no predicted samples. Use `zero_division` parameter to control this behavior.\n",
            "  _warn_prf(average, modifier, msg_start, len(result))\n",
            "/usr/local/lib/python3.10/dist-packages/sklearn/metrics/_classification.py:1344: UndefinedMetricWarning: Recall and F-score are ill-defined and being set to 0.0 in labels with no true samples. Use `zero_division` parameter to control this behavior.\n",
            "  _warn_prf(average, modifier, msg_start, len(result))\n"
          ]
        }
      ],
      "source": [
        "cr=classification_report(y_test,pred_y)\n",
        "print(\"classification Report\",cr)"
      ]
    },
    {
      "cell_type": "markdown",
      "metadata": {
        "id": "EwdS8kAYqwmx"
      },
      "source": [
        "SVM function."
      ]
    },
    {
      "cell_type": "code",
      "execution_count": null,
      "metadata": {
        "id": "ivujfRQaq4zX"
      },
      "outputs": [],
      "source": [
        "import matplotlib.pyplot as plt\n",
        "from sklearn.metrics import accuracy_score,confusion_matrix,classification_report\n",
        "from sklearn.model_selection import train_test_split\n",
        "from sklearn.svm import SVC\n",
        "import matplotlib.pyplot as plt"
      ]
    },
    {
      "cell_type": "code",
      "execution_count": null,
      "metadata": {
        "id": "4j6p8oFFvvEK"
      },
      "outputs": [],
      "source": [
        "df = pd.read_csv(\"/content/train[1].csv\")"
      ]
    },
    {
      "cell_type": "code",
      "execution_count": null,
      "metadata": {
        "id": "mrsIAJlJvwUZ"
      },
      "outputs": [],
      "source": [
        "X = df[[\"Pclass\"]]\n",
        "y = df[\"Name\"]"
      ]
    },
    {
      "cell_type": "code",
      "execution_count": null,
      "metadata": {
        "id": "LJul53akq-9R"
      },
      "outputs": [],
      "source": [
        "X,y = load_breast_cancer(return_X_y=True)"
      ]
    },
    {
      "cell_type": "code",
      "execution_count": null,
      "metadata": {
        "id": "d6Y-9UJfrBnP"
      },
      "outputs": [],
      "source": [
        "X_train,X_test,y_train,y_test=train_test_split(X,y,train_size=0.2,random_state=23)"
      ]
    },
    {
      "cell_type": "code",
      "execution_count": null,
      "metadata": {
        "id": "wvhBrUwyrEmI"
      },
      "outputs": [],
      "source": [
        "Lg=SVC(random_state=0)"
      ]
    },
    {
      "cell_type": "code",
      "execution_count": null,
      "metadata": {
        "colab": {
          "base_uri": "https://localhost:8080/",
          "height": 75
        },
        "id": "tRcfzcD4rHI3",
        "outputId": "ded0826f-2771-4cdb-e78e-fdd1fe6bd0eb"
      },
      "outputs": [
        {
          "data": {
            "text/html": [
              "<style>#sk-container-id-2 {color: black;background-color: white;}#sk-container-id-2 pre{padding: 0;}#sk-container-id-2 div.sk-toggleable {background-color: white;}#sk-container-id-2 label.sk-toggleable__label {cursor: pointer;display: block;width: 100%;margin-bottom: 0;padding: 0.3em;box-sizing: border-box;text-align: center;}#sk-container-id-2 label.sk-toggleable__label-arrow:before {content: \"▸\";float: left;margin-right: 0.25em;color: #696969;}#sk-container-id-2 label.sk-toggleable__label-arrow:hover:before {color: black;}#sk-container-id-2 div.sk-estimator:hover label.sk-toggleable__label-arrow:before {color: black;}#sk-container-id-2 div.sk-toggleable__content {max-height: 0;max-width: 0;overflow: hidden;text-align: left;background-color: #f0f8ff;}#sk-container-id-2 div.sk-toggleable__content pre {margin: 0.2em;color: black;border-radius: 0.25em;background-color: #f0f8ff;}#sk-container-id-2 input.sk-toggleable__control:checked~div.sk-toggleable__content {max-height: 200px;max-width: 100%;overflow: auto;}#sk-container-id-2 input.sk-toggleable__control:checked~label.sk-toggleable__label-arrow:before {content: \"▾\";}#sk-container-id-2 div.sk-estimator input.sk-toggleable__control:checked~label.sk-toggleable__label {background-color: #d4ebff;}#sk-container-id-2 div.sk-label input.sk-toggleable__control:checked~label.sk-toggleable__label {background-color: #d4ebff;}#sk-container-id-2 input.sk-hidden--visually {border: 0;clip: rect(1px 1px 1px 1px);clip: rect(1px, 1px, 1px, 1px);height: 1px;margin: -1px;overflow: hidden;padding: 0;position: absolute;width: 1px;}#sk-container-id-2 div.sk-estimator {font-family: monospace;background-color: #f0f8ff;border: 1px dotted black;border-radius: 0.25em;box-sizing: border-box;margin-bottom: 0.5em;}#sk-container-id-2 div.sk-estimator:hover {background-color: #d4ebff;}#sk-container-id-2 div.sk-parallel-item::after {content: \"\";width: 100%;border-bottom: 1px solid gray;flex-grow: 1;}#sk-container-id-2 div.sk-label:hover label.sk-toggleable__label {background-color: #d4ebff;}#sk-container-id-2 div.sk-serial::before {content: \"\";position: absolute;border-left: 1px solid gray;box-sizing: border-box;top: 0;bottom: 0;left: 50%;z-index: 0;}#sk-container-id-2 div.sk-serial {display: flex;flex-direction: column;align-items: center;background-color: white;padding-right: 0.2em;padding-left: 0.2em;position: relative;}#sk-container-id-2 div.sk-item {position: relative;z-index: 1;}#sk-container-id-2 div.sk-parallel {display: flex;align-items: stretch;justify-content: center;background-color: white;position: relative;}#sk-container-id-2 div.sk-item::before, #sk-container-id-2 div.sk-parallel-item::before {content: \"\";position: absolute;border-left: 1px solid gray;box-sizing: border-box;top: 0;bottom: 0;left: 50%;z-index: -1;}#sk-container-id-2 div.sk-parallel-item {display: flex;flex-direction: column;z-index: 1;position: relative;background-color: white;}#sk-container-id-2 div.sk-parallel-item:first-child::after {align-self: flex-end;width: 50%;}#sk-container-id-2 div.sk-parallel-item:last-child::after {align-self: flex-start;width: 50%;}#sk-container-id-2 div.sk-parallel-item:only-child::after {width: 0;}#sk-container-id-2 div.sk-dashed-wrapped {border: 1px dashed gray;margin: 0 0.4em 0.5em 0.4em;box-sizing: border-box;padding-bottom: 0.4em;background-color: white;}#sk-container-id-2 div.sk-label label {font-family: monospace;font-weight: bold;display: inline-block;line-height: 1.2em;}#sk-container-id-2 div.sk-label-container {text-align: center;}#sk-container-id-2 div.sk-container {/* jupyter's `normalize.less` sets `[hidden] { display: none; }` but bootstrap.min.css set `[hidden] { display: none !important; }` so we also need the `!important` here to be able to override the default hidden behavior on the sphinx rendered scikit-learn.org. See: https://github.com/scikit-learn/scikit-learn/issues/21755 */display: inline-block !important;position: relative;}#sk-container-id-2 div.sk-text-repr-fallback {display: none;}</style><div id=\"sk-container-id-2\" class=\"sk-top-container\"><div class=\"sk-text-repr-fallback\"><pre>SVC(random_state=0)</pre><b>In a Jupyter environment, please rerun this cell to show the HTML representation or trust the notebook. <br />On GitHub, the HTML representation is unable to render, please try loading this page with nbviewer.org.</b></div><div class=\"sk-container\" hidden><div class=\"sk-item\"><div class=\"sk-estimator sk-toggleable\"><input class=\"sk-toggleable__control sk-hidden--visually\" id=\"sk-estimator-id-2\" type=\"checkbox\" checked><label for=\"sk-estimator-id-2\" class=\"sk-toggleable__label sk-toggleable__label-arrow\">SVC</label><div class=\"sk-toggleable__content\"><pre>SVC(random_state=0)</pre></div></div></div></div></div>"
            ],
            "text/plain": [
              "SVC(random_state=0)"
            ]
          },
          "execution_count": 18,
          "metadata": {},
          "output_type": "execute_result"
        }
      ],
      "source": [
        "Lg.fit(X_train,y_train)"
      ]
    },
    {
      "cell_type": "code",
      "execution_count": null,
      "metadata": {
        "id": "tn19vaavrJ7A"
      },
      "outputs": [],
      "source": [
        "pred_y=Lg.predict(X_test)"
      ]
    },
    {
      "cell_type": "code",
      "execution_count": null,
      "metadata": {
        "colab": {
          "base_uri": "https://localhost:8080/"
        },
        "id": "veFVWR9urMnq",
        "outputId": "b4f51592-0ba2-4df0-bd7c-b2dfa8a1f666"
      },
      "outputs": [
        {
          "name": "stdout",
          "output_type": "stream",
          "text": [
            "accuracy 0.8903508771929824\n"
          ]
        }
      ],
      "source": [
        "Ac=accuracy_score(y_test,pred_y)\n",
        "print(\"accuracy\",Ac)"
      ]
    },
    {
      "cell_type": "code",
      "execution_count": null,
      "metadata": {
        "colab": {
          "base_uri": "https://localhost:8080/"
        },
        "id": "m2XMpwG9rR5x",
        "outputId": "0fed15da-b5df-4e26-c54c-6e5aeb2d234e"
      },
      "outputs": [
        {
          "name": "stdout",
          "output_type": "stream",
          "text": [
            "confusion matrix [[122  47]\n",
            " [  3 284]]\n"
          ]
        }
      ],
      "source": [
        "cnf=confusion_matrix(y_test,pred_y)\n",
        "print(\"confusion matrix\",cnf)"
      ]
    },
    {
      "cell_type": "code",
      "execution_count": null,
      "metadata": {
        "colab": {
          "base_uri": "https://localhost:8080/"
        },
        "id": "WYKBJ6NqrYup",
        "outputId": "02543545-909f-49b6-df38-f5c06966720c"
      },
      "outputs": [
        {
          "name": "stdout",
          "output_type": "stream",
          "text": [
            "classification Report               precision    recall  f1-score   support\n",
            "\n",
            "           0       0.98      0.72      0.83       169\n",
            "           1       0.86      0.99      0.92       287\n",
            "\n",
            "    accuracy                           0.89       456\n",
            "   macro avg       0.92      0.86      0.87       456\n",
            "weighted avg       0.90      0.89      0.89       456\n",
            "\n"
          ]
        }
      ],
      "source": [
        "cr=classification_report(y_test,pred_y)\n",
        "print(\"classification Report\",cr)"
      ]
    },
    {
      "cell_type": "markdown",
      "metadata": {
        "id": "pA2VHIPzuxlH"
      },
      "source": [
        "Basic Ensemble techniques"
      ]
    },
    {
      "cell_type": "code",
      "source": [
        "#max voting\n",
        "from sklearn.ensemble import VotingClassifier\n",
        "from sklearn.tree import DecisionTreeClassifier\n",
        "from sklearn.svm import SVC\n",
        "from sklearn.linear_model import LogisticRegression\n",
        "from sklearn.datasets import load_iris\n",
        "from sklearn.model_selection import train_test_split\n",
        "from sklearn.metrics import accuracy_score\n",
        "\n",
        "data = load_iris()\n",
        "X = data.data\n",
        "y = data.target\n",
        "\n",
        "X_train, X_test, y_train, y_test = train_test_split(X, y, test_size=0.2, random_state=42)\n",
        "\n",
        "classifier1 = DecisionTreeClassifier(random_state=42)\n",
        "classifier2 = SVC(probability=True, random_state=42)\n",
        "classifier3 = LogisticRegression(random_state=42)\n",
        "\n",
        "voting_classifier = VotingClassifier(estimators=[('dt', classifier1), ('svc', classifier2), ('lr', classifier3)], voting='hard')\n",
        "\n",
        "voting_classifier.fit(X_train, y_train)\n",
        "\n",
        "y_pred = voting_classifier.predict(X_test)\n",
        "\n",
        "accuracy = accuracy_score(y_test, y_pred)\n",
        "print(f\"Accuracy: {accuracy:.2f}\")"
      ],
      "metadata": {
        "colab": {
          "base_uri": "https://localhost:8080/"
        },
        "id": "eH2sXTSEoMKs",
        "outputId": "d4e8c844-4942-42b3-c6f5-10f0196a2885"
      },
      "execution_count": null,
      "outputs": [
        {
          "output_type": "stream",
          "name": "stdout",
          "text": [
            "Accuracy: 1.00\n"
          ]
        },
        {
          "output_type": "stream",
          "name": "stderr",
          "text": [
            "/usr/local/lib/python3.10/dist-packages/sklearn/linear_model/_logistic.py:458: ConvergenceWarning: lbfgs failed to converge (status=1):\n",
            "STOP: TOTAL NO. of ITERATIONS REACHED LIMIT.\n",
            "\n",
            "Increase the number of iterations (max_iter) or scale the data as shown in:\n",
            "    https://scikit-learn.org/stable/modules/preprocessing.html\n",
            "Please also refer to the documentation for alternative solver options:\n",
            "    https://scikit-learn.org/stable/modules/linear_model.html#logistic-regression\n",
            "  n_iter_i = _check_optimize_result(\n"
          ]
        }
      ]
    },
    {
      "cell_type": "code",
      "source": [
        "#averaging\n",
        "import numpy as np\n",
        "\n",
        "model1_predictions = np.array([0.1, 0.2, 0.3, 0.4])\n",
        "model2_predictions = np.array([0.65, 0.75, 0.58, 0.88])\n",
        "model3_predictions = np.array([0.72, 0.82, 0.62, 0.91])\n",
        "\n",
        "ensemble_predictions = (model1_predictions + model2_predictions + model3_predictions) / 3\n",
        "\n",
        "print(\"Ensemble Predictions:\", ensemble_predictions)"
      ],
      "metadata": {
        "colab": {
          "base_uri": "https://localhost:8080/"
        },
        "id": "p3krrgY_oWpJ",
        "outputId": "fc07da51-40c2-4ba4-d64b-1f408e882f91"
      },
      "execution_count": null,
      "outputs": [
        {
          "output_type": "stream",
          "name": "stdout",
          "text": [
            "Ensemble Predictions: [0.49 0.59 0.5  0.73]\n"
          ]
        }
      ]
    },
    {
      "cell_type": "code",
      "source": [
        "\n",
        "#weighted average\n",
        "import numpy as np\n",
        "\n",
        "base_model1_predictions = np.array([0.1, 0.2, 0.3, 0.4])\n",
        "base_model2_predictions = np.array([0.6, 0.7, 0.8, 0.75])\n",
        "base_model3_predictions = np.array([0.75, 0.65, 0.7, 0.8])\n",
        "\n",
        "weights = [0.4, 0.3, 0.3]\n",
        "\n",
        "ensemble_predictions = (\n",
        "    weights[0] * base_model1_predictions +\n",
        "    weights[1] * base_model2_predictions +\n",
        "    weights[2] * base_model3_predictions\n",
        ")\n",
        "\n",
        "normalized_ensemble_predictions = ensemble_predictions / sum(weights)\n",
        "\n",
        "print(\"Ensemble Predictions (Unnormalized):\", ensemble_predictions)\n",
        "print(\"Ensemble Predictions (Normalized):\", normalized_ensemble_predictions)"
      ],
      "metadata": {
        "colab": {
          "base_uri": "https://localhost:8080/"
        },
        "id": "1C2BTyLZoblL",
        "outputId": "05bba8f7-c413-43d2-c2a5-30ba042fb4bf"
      },
      "execution_count": null,
      "outputs": [
        {
          "output_type": "stream",
          "name": "stdout",
          "text": [
            "Ensemble Predictions (Unnormalized): [0.445 0.485 0.57  0.625]\n",
            "Ensemble Predictions (Normalized): [0.445 0.485 0.57  0.625]\n"
          ]
        }
      ]
    },
    {
      "cell_type": "markdown",
      "source": [
        "Advance Ensemble"
      ],
      "metadata": {
        "id": "xe6SSwG-XjMo"
      }
    },
    {
      "cell_type": "code",
      "source": [
        "#stacking\n",
        "import numpy as np\n",
        "from sklearn.model_selection import train_test_split\n",
        "from sklearn.ensemble import RandomForestClassifier, GradientBoostingClassifier\n",
        "from sklearn.linear_model import LogisticRegression\n",
        "from sklearn.metrics import accuracy_score\n",
        "from sklearn.datasets import load_iris\n",
        "\n",
        "data = load_iris()\n",
        "X, y = data.data, data.target\n",
        "\n",
        "X_train, X_test, y_train, y_test = train_test_split(X, y, test_size=0.2, random_state=42)\n",
        "\n",
        "model1 = RandomForestClassifier(n_estimators=100, random_state=42)\n",
        "model2 = GradientBoostingClassifier(n_estimators=100, random_state=42)\n",
        "\n",
        "meta_model = LogisticRegression()\n",
        "\n",
        "model1.fit(X_train, y_train)\n",
        "model2.fit(X_train, y_train)\n",
        "\n",
        "pred1 = model1.predict(X_test)\n",
        "pred2 = model2.predict(X_test)\n",
        "\n",
        "meta_features = np.column_stack((pred1, pred2))\n",
        "\n",
        "meta_model.fit(meta_features, y_test)\n",
        "\n",
        "pred1_full = model1.predict(X)\n",
        "pred2_full = model2.predict(X)\n",
        "\n",
        "meta_features_full = np.column_stack((pred1_full, pred2_full))\n",
        "\n",
        "final_predictions = meta_model.predict(meta_features_full)\n",
        "\n",
        "accuracy = accuracy_score(y, final_predictions)\n",
        "print(\"Accuracy:\", accuracy)"
      ],
      "metadata": {
        "colab": {
          "base_uri": "https://localhost:8080/"
        },
        "id": "7OUvkt2Vpwfe",
        "outputId": "218d2b12-fc17-4f25-b8d4-7178f023977c"
      },
      "execution_count": null,
      "outputs": [
        {
          "output_type": "stream",
          "name": "stdout",
          "text": [
            "Accuracy: 1.0\n"
          ]
        }
      ]
    },
    {
      "cell_type": "code",
      "source": [
        "#boosting\n",
        "from sklearn.ensemble import AdaBoostClassifier\n",
        "from sklearn.tree import DecisionTreeClassifier\n",
        "from sklearn.datasets import make_classification\n",
        "from sklearn.model_selection import train_test_split\n",
        "from sklearn.metrics import accuracy_score\n",
        "\n",
        "X, y = make_classification(n_samples=1000, n_features=20, random_state=42)\n",
        "\n",
        "X_train, X_test, y_train, y_test = train_test_split(X, y, test_size=0.2, random_state=42)\n",
        "\n",
        "base_classifier = DecisionTreeClassifier(max_depth=1)\n",
        "\n",
        "adaboost = AdaBoostClassifier(base_classifier, n_estimators=50, random_state=42)\n",
        "\n",
        "adaboost.fit(X_train, y_train)\n",
        "\n",
        "y_pred = adaboost.predict(X_test)\n",
        "\n",
        "accuracy = accuracy_score(y_test, y_pred)\n",
        "print(f\"Accuracy: {accuracy:.2f}\")"
      ],
      "metadata": {
        "colab": {
          "base_uri": "https://localhost:8080/"
        },
        "id": "tfvWElR1qSg4",
        "outputId": "8e784b72-dd10-4a28-e134-c617c1b537c0"
      },
      "execution_count": null,
      "outputs": [
        {
          "output_type": "stream",
          "name": "stdout",
          "text": [
            "Accuracy: 0.87\n"
          ]
        }
      ]
    },
    {
      "cell_type": "code",
      "source": [
        "#bagging\n",
        "from sklearn.datasets import make_classification\n",
        "X,y=make_classification(n_samples=1000,n_features=20,n_informative=15,random_state=5)\n",
        "print(X.shape,y.shape)\n",
        "from numpy import mean\n",
        "from numpy import std\n",
        "from sklearn.datasets import make_classification\n",
        "from sklearn.model_selection import cross_val_score\n",
        "from sklearn.model_selection import RepeatedKFold\n",
        "from sklearn.ensemble import BaggingClassifier\n",
        "X,y=make_classification(n_samples=1000,n_features=20,n_informative=15,random_state=5)\n",
        "model=BaggingClassifier()\n",
        "cv=RepeatedKFold(n_splits=10,n_repeats=3,random_state=1)\n",
        "n_scores=cross_val_score(model,X,y,scoring='accuracy',cv=cv,n_jobs=-1, error_score='raise')\n",
        "print('Accuracy:%.3f(%.3f)'%(mean(n_scores),std(n_scores)))"
      ],
      "metadata": {
        "id": "Yzlh1mSiX9-f",
        "outputId": "04f40d4c-6dce-43d4-d7fc-326394591ad5",
        "colab": {
          "base_uri": "https://localhost:8080/"
        }
      },
      "execution_count": null,
      "outputs": [
        {
          "output_type": "stream",
          "name": "stdout",
          "text": [
            "(1000, 20) (1000,)\n",
            "Accuracy:0.855(0.032)\n"
          ]
        }
      ]
    }
  ],
  "metadata": {
    "colab": {
      "provenance": [],
      "authorship_tag": "ABX9TyOxVemdUL6HQ/eLMGZ398bP",
      "include_colab_link": true
    },
    "kernelspec": {
      "display_name": "Python 3",
      "name": "python3"
    },
    "language_info": {
      "name": "python"
    }
  },
  "nbformat": 4,
  "nbformat_minor": 0
}